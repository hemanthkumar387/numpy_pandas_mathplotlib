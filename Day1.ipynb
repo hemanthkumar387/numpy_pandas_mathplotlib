{
  "nbformat": 4,
  "nbformat_minor": 0,
  "metadata": {
    "colab": {
      "provenance": [],
      "authorship_tag": "ABX9TyOCptp6+SGvVestZkYC2HaV",
      "include_colab_link": true
    },
    "kernelspec": {
      "name": "python3",
      "display_name": "Python 3"
    },
    "language_info": {
      "name": "python"
    }
  },
  "cells": [
    {
      "cell_type": "markdown",
      "metadata": {
        "id": "view-in-github",
        "colab_type": "text"
      },
      "source": [
        "<a href=\"https://colab.research.google.com/github/hemanthkumar387/numpy_pandas_mathplotlib/blob/main/Day1.ipynb\" target=\"_parent\"><img src=\"https://colab.research.google.com/assets/colab-badge.svg\" alt=\"Open In Colab\"/></a>"
      ]
    },
    {
      "cell_type": "markdown",
      "source": [
        "# **NUMPY**"
      ],
      "metadata": {
        "id": "hzwAYPQ8UKLo"
      }
    },
    {
      "cell_type": "markdown",
      "source": [
        "Numpy is the core library for scientific computing in python\n",
        "* Data science,Machine Learning,Deep Learning.\n",
        "* High Performance multidimensional array --> fast\n",
        "* Mathematical operations with arrays.\n"
      ],
      "metadata": {
        "id": "aIs3DKEN73Z0"
      }
    },
    {
      "cell_type": "markdown",
      "source": [
        "Numpy usecases\n",
        "* Array/Matrix operations - Linear Algebra.\n",
        "* Dot product.\n",
        "* Matrix mutiplications.\n",
        "* Linear systems.\n",
        "* Inverse, deteminant.\n",
        "* Eigenvectors.\n",
        "* Random numbers.\n",
        "Working with images represented as array.\n",
        "\n",
        "\n"
      ],
      "metadata": {
        "id": "z1ImqVhI84lA"
      }
    },
    {
      "cell_type": "code",
      "execution_count": null,
      "metadata": {
        "id": "65W0D_Gt7XhS"
      },
      "outputs": [],
      "source": [
        "import numpy as np"
      ]
    },
    {
      "cell_type": "code",
      "source": [
        "# a=[1,3,5]\n",
        "# b=[1,2,3]"
      ],
      "metadata": {
        "id": "i_tQf5kBCH7W"
      },
      "execution_count": null,
      "outputs": []
    },
    {
      "cell_type": "code",
      "source": [
        "# a*b"
      ],
      "metadata": {
        "id": "ytdZnMsfD6y7"
      },
      "execution_count": null,
      "outputs": []
    },
    {
      "cell_type": "code",
      "source": [
        "a=np.array([1,3,5])"
      ],
      "metadata": {
        "id": "XlFNEsCdD6vZ"
      },
      "execution_count": null,
      "outputs": []
    },
    {
      "cell_type": "code",
      "source": [
        "b=np.array([1,2,3])"
      ],
      "metadata": {
        "id": "XDVzD6pxEMBI"
      },
      "execution_count": null,
      "outputs": []
    },
    {
      "cell_type": "code",
      "source": [
        "a*b"
      ],
      "metadata": {
        "colab": {
          "base_uri": "https://localhost:8080/"
        },
        "id": "tLNcb7tiD6sd",
        "outputId": "cf84c8e7-ec14-41d0-a1ca-ca05cf2edde5"
      },
      "execution_count": null,
      "outputs": [
        {
          "output_type": "execute_result",
          "data": {
            "text/plain": [
              "array([ 1,  6, 15])"
            ]
          },
          "metadata": {},
          "execution_count": 487
        }
      ]
    },
    {
      "cell_type": "code",
      "source": [
        "a.ndim"
      ],
      "metadata": {
        "colab": {
          "base_uri": "https://localhost:8080/"
        },
        "id": "t8_fCGltD6pz",
        "outputId": "6eb8927f-630c-4595-98e5-8da6c26b222e"
      },
      "execution_count": null,
      "outputs": [
        {
          "output_type": "execute_result",
          "data": {
            "text/plain": [
              "1"
            ]
          },
          "metadata": {},
          "execution_count": 488
        }
      ]
    },
    {
      "cell_type": "markdown",
      "source": [
        "1D * 2D"
      ],
      "metadata": {
        "id": "OSgwnM0rERYx"
      }
    },
    {
      "cell_type": "code",
      "source": [
        "a=np.array([1,3,5])"
      ],
      "metadata": {
        "id": "QpTzV7BKD6nt"
      },
      "execution_count": null,
      "outputs": []
    },
    {
      "cell_type": "code",
      "source": [
        "b=np.array([[1,2,3],[6.7,8,9]])"
      ],
      "metadata": {
        "id": "oE9mKwUiD6lu"
      },
      "execution_count": null,
      "outputs": []
    },
    {
      "cell_type": "code",
      "source": [
        "a*b"
      ],
      "metadata": {
        "colab": {
          "base_uri": "https://localhost:8080/"
        },
        "id": "olQqb12LD6jv",
        "outputId": "2832ab52-c92f-419b-bd38-9393369cae05"
      },
      "execution_count": null,
      "outputs": [
        {
          "output_type": "execute_result",
          "data": {
            "text/plain": [
              "array([[ 1. ,  6. , 15. ],\n",
              "       [ 6.7, 24. , 45. ]])"
            ]
          },
          "metadata": {},
          "execution_count": 491
        }
      ]
    },
    {
      "cell_type": "code",
      "source": [
        "a.ndim,b.ndim  # Displays the dimensions of the array "
      ],
      "metadata": {
        "colab": {
          "base_uri": "https://localhost:8080/"
        },
        "id": "LeN4zuOhD6hY",
        "outputId": "919ecd4c-adca-40d7-ba77-11accee9fd4c"
      },
      "execution_count": null,
      "outputs": [
        {
          "output_type": "execute_result",
          "data": {
            "text/plain": [
              "(1, 2)"
            ]
          },
          "metadata": {},
          "execution_count": 492
        }
      ]
    },
    {
      "cell_type": "code",
      "source": [
        "a.shape,b.shape   # Displays the no.of columns,no.of rows of the array"
      ],
      "metadata": {
        "colab": {
          "base_uri": "https://localhost:8080/"
        },
        "id": "IJt1ItWdEdqx",
        "outputId": "343397bb-0d67-4d31-d168-5f4c7dec3c4c"
      },
      "execution_count": null,
      "outputs": [
        {
          "output_type": "execute_result",
          "data": {
            "text/plain": [
              "((3,), (2, 3))"
            ]
          },
          "metadata": {},
          "execution_count": 493
        }
      ]
    },
    {
      "cell_type": "code",
      "source": [
        "a.dtype,b.dtype    # Data type of array"
      ],
      "metadata": {
        "colab": {
          "base_uri": "https://localhost:8080/"
        },
        "id": "WXKj7SMUEdof",
        "outputId": "53dff476-19bd-44f6-9b91-c640911502fa"
      },
      "execution_count": null,
      "outputs": [
        {
          "output_type": "execute_result",
          "data": {
            "text/plain": [
              "(dtype('int64'), dtype('float64'))"
            ]
          },
          "metadata": {},
          "execution_count": 494
        }
      ]
    },
    {
      "cell_type": "code",
      "source": [
        "a.itemsize   # Single element size in an array(bytes)"
      ],
      "metadata": {
        "colab": {
          "base_uri": "https://localhost:8080/"
        },
        "id": "45yEXIX9EdmG",
        "outputId": "0c072ddf-1fb0-4a93-b31e-f410d9b50ca8"
      },
      "execution_count": null,
      "outputs": [
        {
          "output_type": "execute_result",
          "data": {
            "text/plain": [
              "8"
            ]
          },
          "metadata": {},
          "execution_count": 495
        }
      ]
    },
    {
      "cell_type": "code",
      "source": [
        "a.size,b.size  # Length of array"
      ],
      "metadata": {
        "colab": {
          "base_uri": "https://localhost:8080/"
        },
        "id": "BWG6NfRcEdjm",
        "outputId": "4fdf5023-0c33-4d42-a2ac-4aa7cc2045f9"
      },
      "execution_count": null,
      "outputs": [
        {
          "output_type": "execute_result",
          "data": {
            "text/plain": [
              "(3, 6)"
            ]
          },
          "metadata": {},
          "execution_count": 496
        }
      ]
    },
    {
      "cell_type": "code",
      "source": [
        "a.size*a.itemsize   # Size of total elements in the array(bytes)"
      ],
      "metadata": {
        "colab": {
          "base_uri": "https://localhost:8080/"
        },
        "id": "Z9d6cIlkEdf1",
        "outputId": "bf488cc2-11b1-40c1-f2ff-b484fd8f8417"
      },
      "execution_count": null,
      "outputs": [
        {
          "output_type": "execute_result",
          "data": {
            "text/plain": [
              "24"
            ]
          },
          "metadata": {},
          "execution_count": 497
        }
      ]
    },
    {
      "cell_type": "code",
      "source": [
        "a.nbytes  # same as a.size*a.iteamsize"
      ],
      "metadata": {
        "colab": {
          "base_uri": "https://localhost:8080/"
        },
        "id": "DlS0r1mXEddi",
        "outputId": "731b190e-b6d8-4c70-a2be-33076e11067d"
      },
      "execution_count": null,
      "outputs": [
        {
          "output_type": "execute_result",
          "data": {
            "text/plain": [
              "24"
            ]
          },
          "metadata": {},
          "execution_count": 498
        }
      ]
    },
    {
      "cell_type": "code",
      "source": [
        "a=[1,2,3]\n",
        "a.append(6)\n",
        "print(a)"
      ],
      "metadata": {
        "colab": {
          "base_uri": "https://localhost:8080/"
        },
        "id": "GmrRbB59H0N6",
        "outputId": "049a7c18-ef0b-47c4-861f-d67b1750e3d8"
      },
      "execution_count": null,
      "outputs": [
        {
          "output_type": "stream",
          "name": "stdout",
          "text": [
            "[1, 2, 3, 6]\n"
          ]
        }
      ]
    },
    {
      "cell_type": "code",
      "source": [
        "#a=np.array([1,2,3])\n",
        "#a.append(4)            # Numpy as no attribute append.\n",
        "#print(a)"
      ],
      "metadata": {
        "id": "XeXckEfMIL4A"
      },
      "execution_count": null,
      "outputs": []
    },
    {
      "cell_type": "markdown",
      "source": [
        "**Accessing/Changing specific elements,rows,columns,etcc**"
      ],
      "metadata": {
        "id": "vkBx-3dCEvfB"
      }
    },
    {
      "cell_type": "code",
      "source": [
        "a=np.array([[1,2,3,4,5,6,7],[8,9,10,11,12,13,14]])\n",
        "print(a)"
      ],
      "metadata": {
        "colab": {
          "base_uri": "https://localhost:8080/"
        },
        "id": "G8DsVxFsEdbd",
        "outputId": "d9b6f394-5636-4b07-8eea-56e4ed42f66a"
      },
      "execution_count": null,
      "outputs": [
        {
          "output_type": "stream",
          "name": "stdout",
          "text": [
            "[[ 1  2  3  4  5  6  7]\n",
            " [ 8  9 10 11 12 13 14]]\n"
          ]
        }
      ]
    },
    {
      "cell_type": "code",
      "source": [
        "a[1,5] # Get a specific element [r,c] # it could not work for lists"
      ],
      "metadata": {
        "colab": {
          "base_uri": "https://localhost:8080/"
        },
        "id": "H_NlbTDbEdWt",
        "outputId": "12f9e4e9-0f13-4336-99fb-58ad57b27e32"
      },
      "execution_count": null,
      "outputs": [
        {
          "output_type": "execute_result",
          "data": {
            "text/plain": [
              "13"
            ]
          },
          "metadata": {},
          "execution_count": 502
        }
      ]
    },
    {
      "cell_type": "code",
      "source": [
        "#a=[[1,3,5],[4,7,9]]"
      ],
      "metadata": {
        "id": "S_RGkUTHEdUn"
      },
      "execution_count": null,
      "outputs": []
    },
    {
      "cell_type": "code",
      "source": [
        "#a[1,2] # a[1][2]"
      ],
      "metadata": {
        "id": "WCaWeWcWEdSh"
      },
      "execution_count": null,
      "outputs": []
    },
    {
      "cell_type": "code",
      "source": [
        "a[0,:]  # Get a specific row"
      ],
      "metadata": {
        "colab": {
          "base_uri": "https://localhost:8080/"
        },
        "id": "M9zJwkwlEdP8",
        "outputId": "8bfc28ca-8487-4dab-d515-128d9c4e8738"
      },
      "execution_count": null,
      "outputs": [
        {
          "output_type": "execute_result",
          "data": {
            "text/plain": [
              "array([1, 2, 3, 4, 5, 6, 7])"
            ]
          },
          "metadata": {},
          "execution_count": 505
        }
      ]
    },
    {
      "cell_type": "code",
      "source": [
        "a[:,2] # Get a specific column"
      ],
      "metadata": {
        "colab": {
          "base_uri": "https://localhost:8080/"
        },
        "id": "1220ysdBFG3j",
        "outputId": "4415714d-b119-4eaf-841d-cae9113d45a7"
      },
      "execution_count": null,
      "outputs": [
        {
          "output_type": "execute_result",
          "data": {
            "text/plain": [
              "array([ 3, 10])"
            ]
          },
          "metadata": {},
          "execution_count": 506
        }
      ]
    },
    {
      "cell_type": "code",
      "source": [
        "a[:,0:3] # Selecting all rows and 0 to 3 columns"
      ],
      "metadata": {
        "colab": {
          "base_uri": "https://localhost:8080/"
        },
        "id": "PGD3ElzMFG0M",
        "outputId": "74105785-9b93-47c8-ad0b-93d7f23e0e7c"
      },
      "execution_count": null,
      "outputs": [
        {
          "output_type": "execute_result",
          "data": {
            "text/plain": [
              "array([[ 1,  2,  3],\n",
              "       [ 8,  9, 10]])"
            ]
          },
          "metadata": {},
          "execution_count": 507
        }
      ]
    },
    {
      "cell_type": "code",
      "source": [
        "a[0,1:6:2] # [startingindex,endingindex,stepsize]"
      ],
      "metadata": {
        "colab": {
          "base_uri": "https://localhost:8080/"
        },
        "id": "LwwcbH56FGyP",
        "outputId": "63622b78-3ad7-4fa8-ebe9-d27c71d886d9"
      },
      "execution_count": null,
      "outputs": [
        {
          "output_type": "execute_result",
          "data": {
            "text/plain": [
              "array([2, 4, 6])"
            ]
          },
          "metadata": {},
          "execution_count": 508
        }
      ]
    },
    {
      "cell_type": "code",
      "source": [
        "a[1,5]=20   # Changing element in the array\n",
        "print(a)"
      ],
      "metadata": {
        "colab": {
          "base_uri": "https://localhost:8080/"
        },
        "id": "GM_h5zkmFGv8",
        "outputId": "63d398ba-dc35-4296-d4db-c21338c60f88"
      },
      "execution_count": null,
      "outputs": [
        {
          "output_type": "stream",
          "name": "stdout",
          "text": [
            "[[ 1  2  3  4  5  6  7]\n",
            " [ 8  9 10 11 12 20 14]]\n"
          ]
        }
      ]
    },
    {
      "cell_type": "code",
      "source": [
        "a[:,2]= 5  # Changing by column with same element \n",
        "print(a)"
      ],
      "metadata": {
        "colab": {
          "base_uri": "https://localhost:8080/"
        },
        "id": "3f0jb5iVFcC1",
        "outputId": "99949912-fcf7-492d-eabd-ce7d4d0dc237"
      },
      "execution_count": null,
      "outputs": [
        {
          "output_type": "stream",
          "name": "stdout",
          "text": [
            "[[ 1  2  5  4  5  6  7]\n",
            " [ 8  9  5 11 12 20 14]]\n"
          ]
        }
      ]
    },
    {
      "cell_type": "code",
      "source": [
        "a[:,2]= 1,2 # Changing by column with different elements\n",
        "print(a)"
      ],
      "metadata": {
        "colab": {
          "base_uri": "https://localhost:8080/"
        },
        "id": "fVYafM1JFkKo",
        "outputId": "fdd78810-2ea7-402c-c8c7-9d355744158a"
      },
      "execution_count": null,
      "outputs": [
        {
          "output_type": "stream",
          "name": "stdout",
          "text": [
            "[[ 1  2  1  4  5  6  7]\n",
            " [ 8  9  2 11 12 20 14]]\n"
          ]
        }
      ]
    },
    {
      "cell_type": "markdown",
      "source": [
        "**3D examples**"
      ],
      "metadata": {
        "id": "qu9r1QfnFqC3"
      }
    },
    {
      "cell_type": "code",
      "source": [
        "x = np.array([[[1,2],[3,4]],[[5,6],[7,8]]])\n",
        "print(x)"
      ],
      "metadata": {
        "colab": {
          "base_uri": "https://localhost:8080/"
        },
        "id": "Jka3r3swFkFj",
        "outputId": "f44505cd-1d63-44af-9f6c-8d1293be6b82"
      },
      "execution_count": null,
      "outputs": [
        {
          "output_type": "stream",
          "name": "stdout",
          "text": [
            "[[[1 2]\n",
            "  [3 4]]\n",
            "\n",
            " [[5 6]\n",
            "  [7 8]]]\n"
          ]
        }
      ]
    },
    {
      "cell_type": "code",
      "source": [
        "x[0,1,1] # Get a specific element in 3D array  (matrix,row,column)"
      ],
      "metadata": {
        "colab": {
          "base_uri": "https://localhost:8080/"
        },
        "id": "psuEY6TdFkDN",
        "outputId": "d249907e-e48b-441e-8272-f4c9e898d5bd"
      },
      "execution_count": null,
      "outputs": [
        {
          "output_type": "execute_result",
          "data": {
            "text/plain": [
              "4"
            ]
          },
          "metadata": {},
          "execution_count": 513
        }
      ]
    },
    {
      "cell_type": "code",
      "source": [
        "x[:,1,:] = [9,9],[8,8]\n",
        "print(x)"
      ],
      "metadata": {
        "colab": {
          "base_uri": "https://localhost:8080/"
        },
        "id": "b9z8GcUQGAXg",
        "outputId": "a8a5fe55-f33a-4081-b0f1-3f5829c19851"
      },
      "execution_count": null,
      "outputs": [
        {
          "output_type": "stream",
          "name": "stdout",
          "text": [
            "[[[1 2]\n",
            "  [9 9]]\n",
            "\n",
            " [[5 6]\n",
            "  [8 8]]]\n"
          ]
        }
      ]
    },
    {
      "cell_type": "code",
      "source": [
        "np.zeros((2,3,2)) # All 0's matrix  # (matrix,sub-matrix,row,columns)"
      ],
      "metadata": {
        "colab": {
          "base_uri": "https://localhost:8080/"
        },
        "id": "UNrbJbzLGAT8",
        "outputId": "244b4555-f514-4676-f181-e4110d3c7c4e"
      },
      "execution_count": null,
      "outputs": [
        {
          "output_type": "execute_result",
          "data": {
            "text/plain": [
              "array([[[0., 0.],\n",
              "        [0., 0.],\n",
              "        [0., 0.]],\n",
              "\n",
              "       [[0., 0.],\n",
              "        [0., 0.],\n",
              "        [0., 0.]]])"
            ]
          },
          "metadata": {},
          "execution_count": 515
        }
      ]
    },
    {
      "cell_type": "code",
      "source": [
        "np.ones((2,4,5),dtype=\"int32\")  # All 1's matrix.  #  dtype converts float to int."
      ],
      "metadata": {
        "colab": {
          "base_uri": "https://localhost:8080/"
        },
        "id": "zs76Fm7AGARo",
        "outputId": "5f5762c7-eea0-4e1a-90f4-f2d13957ca0f"
      },
      "execution_count": null,
      "outputs": [
        {
          "output_type": "execute_result",
          "data": {
            "text/plain": [
              "array([[[1, 1, 1, 1, 1],\n",
              "        [1, 1, 1, 1, 1],\n",
              "        [1, 1, 1, 1, 1],\n",
              "        [1, 1, 1, 1, 1]],\n",
              "\n",
              "       [[1, 1, 1, 1, 1],\n",
              "        [1, 1, 1, 1, 1],\n",
              "        [1, 1, 1, 1, 1],\n",
              "        [1, 1, 1, 1, 1]]], dtype=int32)"
            ]
          },
          "metadata": {},
          "execution_count": 516
        }
      ]
    },
    {
      "cell_type": "code",
      "source": [
        "np.full((2,3),2)  # ALL for any number."
      ],
      "metadata": {
        "colab": {
          "base_uri": "https://localhost:8080/"
        },
        "id": "-JfdCHwBGIR9",
        "outputId": "85499949-0bff-4325-8cb6-15193a4b1462"
      },
      "execution_count": null,
      "outputs": [
        {
          "output_type": "execute_result",
          "data": {
            "text/plain": [
              "array([[2, 2, 2],\n",
              "       [2, 2, 2]])"
            ]
          },
          "metadata": {},
          "execution_count": 517
        }
      ]
    },
    {
      "cell_type": "code",
      "source": [
        "m=np.array([[0,1,1],[1,2,3],[3,6,6]])"
      ],
      "metadata": {
        "id": "3NScRPImGIOi"
      },
      "execution_count": null,
      "outputs": []
    },
    {
      "cell_type": "code",
      "source": [
        "e=np.full_like(m,1)  # all elements in the arrays covert to a unique number(userinput).\n",
        "print(e)"
      ],
      "metadata": {
        "colab": {
          "base_uri": "https://localhost:8080/"
        },
        "id": "HVkAwbgHGIL_",
        "outputId": "8f3498f9-50af-475a-a534-a4e879069cc1"
      },
      "execution_count": null,
      "outputs": [
        {
          "output_type": "stream",
          "name": "stdout",
          "text": [
            "[[1 1 1]\n",
            " [1 1 1]\n",
            " [1 1 1]]\n"
          ]
        }
      ]
    },
    {
      "cell_type": "code",
      "source": [
        "np.full_like(m.shape,5)"
      ],
      "metadata": {
        "colab": {
          "base_uri": "https://localhost:8080/"
        },
        "id": "3tezJURBGIJJ",
        "outputId": "1853a19c-2040-40e5-81d2-c50db1ae938e"
      },
      "execution_count": null,
      "outputs": [
        {
          "output_type": "execute_result",
          "data": {
            "text/plain": [
              "array([5, 5])"
            ]
          },
          "metadata": {},
          "execution_count": 520
        }
      ]
    },
    {
      "cell_type": "code",
      "source": [
        "np.random.rand(2,2,3)  # Generate random numbers in the array. # (matrixs,rows,columns)."
      ],
      "metadata": {
        "colab": {
          "base_uri": "https://localhost:8080/"
        },
        "id": "H90iHn9dGW-u",
        "outputId": "c82b3640-36ae-444b-bbdc-865da311824a"
      },
      "execution_count": null,
      "outputs": [
        {
          "output_type": "execute_result",
          "data": {
            "text/plain": [
              "array([[[0.22242667, 0.71143097, 0.46388402],\n",
              "        [0.39543458, 0.4547244 , 0.43432304]],\n",
              "\n",
              "       [[0.70057125, 0.80725613, 0.38393862],\n",
              "        [0.98021913, 0.76254813, 0.01440131]]])"
            ]
          },
          "metadata": {},
          "execution_count": 521
        }
      ]
    },
    {
      "cell_type": "code",
      "source": [
        "np.random.random(m.shape)  # generate the random number in the shape of m."
      ],
      "metadata": {
        "colab": {
          "base_uri": "https://localhost:8080/"
        },
        "id": "7yc6SKExGW7S",
        "outputId": "e6de8548-be55-4b59-a9b4-f86076ada4d1"
      },
      "execution_count": null,
      "outputs": [
        {
          "output_type": "execute_result",
          "data": {
            "text/plain": [
              "array([[0.72193279, 0.53684434, 0.42983051],\n",
              "       [0.90275854, 0.44294305, 0.97537305],\n",
              "       [0.32870051, 0.92327945, 0.48630749]])"
            ]
          },
          "metadata": {},
          "execution_count": 522
        }
      ]
    },
    {
      "cell_type": "code",
      "source": [
        "np.random.randint(9,size=(3,2))  #  Generate a random integer number in a given range and exclusive of range."
      ],
      "metadata": {
        "colab": {
          "base_uri": "https://localhost:8080/"
        },
        "id": "ItNCsDaJGW5V",
        "outputId": "631a3a98-0abd-4165-95d3-a9c1a4615985"
      },
      "execution_count": null,
      "outputs": [
        {
          "output_type": "execute_result",
          "data": {
            "text/plain": [
              "array([[1, 8],\n",
              "       [5, 7],\n",
              "       [0, 5]])"
            ]
          },
          "metadata": {},
          "execution_count": 523
        }
      ]
    },
    {
      "cell_type": "code",
      "source": [
        "np.random.randint(2,7,size=(3,2)) # we can give both starting and ending range (starting and ending range is exclusive)."
      ],
      "metadata": {
        "colab": {
          "base_uri": "https://localhost:8080/"
        },
        "id": "zbrpGiVOGW3M",
        "outputId": "06435b26-7d2a-413c-ebb4-beb2cd41f974"
      },
      "execution_count": null,
      "outputs": [
        {
          "output_type": "execute_result",
          "data": {
            "text/plain": [
              "array([[5, 3],\n",
              "       [2, 5],\n",
              "       [6, 2]])"
            ]
          },
          "metadata": {},
          "execution_count": 524
        }
      ]
    },
    {
      "cell_type": "code",
      "source": [
        "np.identity(5)  # generate a identity matrix of given size."
      ],
      "metadata": {
        "colab": {
          "base_uri": "https://localhost:8080/"
        },
        "id": "_GJG7BZBGW1D",
        "outputId": "108fc4cc-d2c9-4344-bb6b-4165ac1c2c52"
      },
      "execution_count": null,
      "outputs": [
        {
          "output_type": "execute_result",
          "data": {
            "text/plain": [
              "array([[1., 0., 0., 0., 0.],\n",
              "       [0., 1., 0., 0., 0.],\n",
              "       [0., 0., 1., 0., 0.],\n",
              "       [0., 0., 0., 1., 0.],\n",
              "       [0., 0., 0., 0., 1.]])"
            ]
          },
          "metadata": {},
          "execution_count": 525
        }
      ]
    },
    {
      "cell_type": "code",
      "source": [
        "np.eye(4)   # We can write \"eye\" instead of identity."
      ],
      "metadata": {
        "colab": {
          "base_uri": "https://localhost:8080/"
        },
        "id": "2dYyJ_LiGt5h",
        "outputId": "ffbfc5ec-8cd2-4ab8-8e84-511b73db54f2"
      },
      "execution_count": null,
      "outputs": [
        {
          "output_type": "execute_result",
          "data": {
            "text/plain": [
              "array([[1., 0., 0., 0.],\n",
              "       [0., 1., 0., 0.],\n",
              "       [0., 0., 1., 0.],\n",
              "       [0., 0., 0., 1.]])"
            ]
          },
          "metadata": {},
          "execution_count": 526
        }
      ]
    },
    {
      "cell_type": "code",
      "source": [
        "h=np.array([4,7,5])\n",
        "d=np.repeat(h,5)     # Repeat the number in a given range \n",
        "d"
      ],
      "metadata": {
        "colab": {
          "base_uri": "https://localhost:8080/"
        },
        "id": "PirM6djNGt2J",
        "outputId": "a60aae09-69b0-4b56-c2c6-9e41910c7097"
      },
      "execution_count": null,
      "outputs": [
        {
          "output_type": "execute_result",
          "data": {
            "text/plain": [
              "array([4, 4, 4, 4, 4, 7, 7, 7, 7, 7, 5, 5, 5, 5, 5])"
            ]
          },
          "metadata": {},
          "execution_count": 527
        }
      ]
    },
    {
      "cell_type": "code",
      "source": [
        "h=np.array([[4,7,5],[3,9,33]])\n",
        "d=np.repeat(h,5,axis=0)  # axis is used for repetation of elements by axis(\"horizontal(0) or Vertical(1)\")\n",
        "d"
      ],
      "metadata": {
        "colab": {
          "base_uri": "https://localhost:8080/"
        },
        "id": "FQNPlwUtGtzx",
        "outputId": "b17a23c9-2e60-48ed-e57f-b03c86f92a89"
      },
      "execution_count": null,
      "outputs": [
        {
          "output_type": "execute_result",
          "data": {
            "text/plain": [
              "array([[ 4,  7,  5],\n",
              "       [ 4,  7,  5],\n",
              "       [ 4,  7,  5],\n",
              "       [ 4,  7,  5],\n",
              "       [ 4,  7,  5],\n",
              "       [ 3,  9, 33],\n",
              "       [ 3,  9, 33],\n",
              "       [ 3,  9, 33],\n",
              "       [ 3,  9, 33],\n",
              "       [ 3,  9, 33]])"
            ]
          },
          "metadata": {},
          "execution_count": 528
        }
      ]
    },
    {
      "cell_type": "code",
      "source": [
        "a=np.ones((8,8))\n",
        "print(a)\n",
        "\n",
        "b=np.zeros((4,4))\n",
        "b[2,2]=9\n",
        "print(b)\n",
        "\n",
        "a[0:4,0:4]=b        # Inserting one matrix into another matrix\n",
        "print(a)"
      ],
      "metadata": {
        "colab": {
          "base_uri": "https://localhost:8080/"
        },
        "id": "u7RbH2RQGtxe",
        "outputId": "db6ff345-ecf3-438d-e590-3af3e2466fa9"
      },
      "execution_count": null,
      "outputs": [
        {
          "output_type": "stream",
          "name": "stdout",
          "text": [
            "[[1. 1. 1. 1. 1. 1. 1. 1.]\n",
            " [1. 1. 1. 1. 1. 1. 1. 1.]\n",
            " [1. 1. 1. 1. 1. 1. 1. 1.]\n",
            " [1. 1. 1. 1. 1. 1. 1. 1.]\n",
            " [1. 1. 1. 1. 1. 1. 1. 1.]\n",
            " [1. 1. 1. 1. 1. 1. 1. 1.]\n",
            " [1. 1. 1. 1. 1. 1. 1. 1.]\n",
            " [1. 1. 1. 1. 1. 1. 1. 1.]]\n",
            "[[0. 0. 0. 0.]\n",
            " [0. 0. 0. 0.]\n",
            " [0. 0. 9. 0.]\n",
            " [0. 0. 0. 0.]]\n",
            "[[0. 0. 0. 0. 1. 1. 1. 1.]\n",
            " [0. 0. 0. 0. 1. 1. 1. 1.]\n",
            " [0. 0. 9. 0. 1. 1. 1. 1.]\n",
            " [0. 0. 0. 0. 1. 1. 1. 1.]\n",
            " [1. 1. 1. 1. 1. 1. 1. 1.]\n",
            " [1. 1. 1. 1. 1. 1. 1. 1.]\n",
            " [1. 1. 1. 1. 1. 1. 1. 1.]\n",
            " [1. 1. 1. 1. 1. 1. 1. 1.]]\n"
          ]
        }
      ]
    },
    {
      "cell_type": "code",
      "source": [
        "m = np.array([1,2,3])\n",
        "b=m.copy()             # Copy every element in the a.\n",
        "b[0]=100               # It changes only in b. \n",
        "print(b)               # It does not effect m\n",
        "print(m)               "
      ],
      "metadata": {
        "colab": {
          "base_uri": "https://localhost:8080/"
        },
        "id": "UGhgDZaaG71X",
        "outputId": "6c00ffa4-0435-419e-bcd3-d68265cb03d1"
      },
      "execution_count": null,
      "outputs": [
        {
          "output_type": "stream",
          "name": "stdout",
          "text": [
            "[100   2   3]\n",
            "[1 2 3]\n"
          ]
        }
      ]
    },
    {
      "cell_type": "markdown",
      "source": [
        "**Mathematics**"
      ],
      "metadata": {
        "id": "vBAEM3RoHB5i"
      }
    },
    {
      "cell_type": "code",
      "source": [
        "a =np.array([1,2,3,4])"
      ],
      "metadata": {
        "id": "VZWuLxXIHDmR"
      },
      "execution_count": null,
      "outputs": []
    },
    {
      "cell_type": "code",
      "source": [
        "a+2     # Add 2 from every element in the array."
      ],
      "metadata": {
        "colab": {
          "base_uri": "https://localhost:8080/"
        },
        "id": "TUWmWKAeHDuL",
        "outputId": "3161e904-3879-447f-f20d-f1601d78494d"
      },
      "execution_count": null,
      "outputs": [
        {
          "output_type": "execute_result",
          "data": {
            "text/plain": [
              "array([3, 4, 5, 6])"
            ]
          },
          "metadata": {},
          "execution_count": 532
        }
      ]
    },
    {
      "cell_type": "code",
      "source": [
        "a-2    # Subtract 2 from every element in the array."
      ],
      "metadata": {
        "colab": {
          "base_uri": "https://localhost:8080/"
        },
        "id": "3QBP19iCHDqs",
        "outputId": "e064fc2d-38ea-444e-d7f1-2b124cb5a132"
      },
      "execution_count": null,
      "outputs": [
        {
          "output_type": "execute_result",
          "data": {
            "text/plain": [
              "array([-1,  0,  1,  2])"
            ]
          },
          "metadata": {},
          "execution_count": 533
        }
      ]
    },
    {
      "cell_type": "code",
      "source": [
        "a*2   # Multiple every element with 2."
      ],
      "metadata": {
        "colab": {
          "base_uri": "https://localhost:8080/"
        },
        "id": "1zh-FSdMHOby",
        "outputId": "e04d8d14-84e8-4442-aceb-04fa0af119dc"
      },
      "execution_count": null,
      "outputs": [
        {
          "output_type": "execute_result",
          "data": {
            "text/plain": [
              "array([2, 4, 6, 8])"
            ]
          },
          "metadata": {},
          "execution_count": 534
        }
      ]
    },
    {
      "cell_type": "code",
      "source": [
        "a**2   # Squaring every element in the array."
      ],
      "metadata": {
        "colab": {
          "base_uri": "https://localhost:8080/"
        },
        "id": "u2KNspuFHOYa",
        "outputId": "209dc457-c890-443b-f0fb-ed81405b49a8"
      },
      "execution_count": null,
      "outputs": [
        {
          "output_type": "execute_result",
          "data": {
            "text/plain": [
              "array([ 1,  4,  9, 16])"
            ]
          },
          "metadata": {},
          "execution_count": 535
        }
      ]
    },
    {
      "cell_type": "code",
      "source": [
        "a//2   # floor division."
      ],
      "metadata": {
        "colab": {
          "base_uri": "https://localhost:8080/"
        },
        "id": "PoC9JbdTHOV-",
        "outputId": "43fd93c7-d434-4987-b872-8bfac6dcd454"
      },
      "execution_count": null,
      "outputs": [
        {
          "output_type": "execute_result",
          "data": {
            "text/plain": [
              "array([0, 1, 1, 2])"
            ]
          },
          "metadata": {},
          "execution_count": 536
        }
      ]
    },
    {
      "cell_type": "code",
      "source": [
        "a/2    # Divide every element in the array by 2."
      ],
      "metadata": {
        "colab": {
          "base_uri": "https://localhost:8080/"
        },
        "id": "8liITTZ8HTie",
        "outputId": "faed8d58-4dc9-43d8-cb3d-1ac113eed856"
      },
      "execution_count": null,
      "outputs": [
        {
          "output_type": "execute_result",
          "data": {
            "text/plain": [
              "array([0.5, 1. , 1.5, 2. ])"
            ]
          },
          "metadata": {},
          "execution_count": 537
        }
      ]
    },
    {
      "cell_type": "code",
      "source": [
        "b=np.array([2,7,8,4])"
      ],
      "metadata": {
        "id": "aHQ45VQwHUsk"
      },
      "execution_count": null,
      "outputs": []
    },
    {
      "cell_type": "code",
      "source": [
        "a+b   # Add two arrays"
      ],
      "metadata": {
        "colab": {
          "base_uri": "https://localhost:8080/"
        },
        "id": "9g2jXhDuHUpW",
        "outputId": "9de79e55-fc1f-4c79-9655-71065e1d889c"
      },
      "execution_count": null,
      "outputs": [
        {
          "output_type": "execute_result",
          "data": {
            "text/plain": [
              "array([ 3,  9, 11,  8])"
            ]
          },
          "metadata": {},
          "execution_count": 539
        }
      ]
    },
    {
      "cell_type": "code",
      "source": [
        "np.sin(a) , np.cos(b) ,np.tan(b)    # sin,cos,tan values using arrays "
      ],
      "metadata": {
        "colab": {
          "base_uri": "https://localhost:8080/"
        },
        "id": "RLmPoS-vHUnN",
        "outputId": "49a16279-4d36-4219-99d2-b7fc94d6255e"
      },
      "execution_count": null,
      "outputs": [
        {
          "output_type": "execute_result",
          "data": {
            "text/plain": [
              "(array([ 0.84147098,  0.90929743,  0.14112001, -0.7568025 ]),\n",
              " array([-0.41614684,  0.75390225, -0.14550003, -0.65364362]),\n",
              " array([-2.18503986,  0.87144798, -6.79971146,  1.15782128]))"
            ]
          },
          "metadata": {},
          "execution_count": 540
        }
      ]
    },
    {
      "cell_type": "markdown",
      "source": [
        "**Linear Algebra**"
      ],
      "metadata": {
        "id": "4V2loYDsHeoc"
      }
    },
    {
      "cell_type": "code",
      "source": [
        "a = np.full((2,3),2)\n",
        "print(a)\n",
        "b = np.ones((3,2))    # Use to multiply two matrics of differnt sizes where 1st matrix column = 2nd matrix row\n",
        "print(b)\n",
        "\n",
        "np.matmul(a,b)"
      ],
      "metadata": {
        "colab": {
          "base_uri": "https://localhost:8080/"
        },
        "id": "04KgwKrKHbBR",
        "outputId": "fa6ab637-e539-4eea-f13d-959ecc402b8c"
      },
      "execution_count": null,
      "outputs": [
        {
          "output_type": "stream",
          "name": "stdout",
          "text": [
            "[[2 2 2]\n",
            " [2 2 2]]\n",
            "[[1. 1.]\n",
            " [1. 1.]\n",
            " [1. 1.]]\n"
          ]
        },
        {
          "output_type": "execute_result",
          "data": {
            "text/plain": [
              "array([[6., 6.],\n",
              "       [6., 6.]])"
            ]
          },
          "metadata": {},
          "execution_count": 541
        }
      ]
    },
    {
      "cell_type": "code",
      "source": [
        "c=np.array([[1,2],[3,4],[6,7]])\n",
        "print(c)\n",
        "d=np.array([[1,2,3],[4,5,6]])\n",
        "print(d)\n",
        "\n",
        "c@d   # @ can be used for multiplication"
      ],
      "metadata": {
        "colab": {
          "base_uri": "https://localhost:8080/"
        },
        "id": "JHdmuLGQHa-2",
        "outputId": "e6efa101-0702-4cc4-b14b-877b6c029902"
      },
      "execution_count": null,
      "outputs": [
        {
          "output_type": "stream",
          "name": "stdout",
          "text": [
            "[[1 2]\n",
            " [3 4]\n",
            " [6 7]]\n",
            "[[1 2 3]\n",
            " [4 5 6]]\n"
          ]
        },
        {
          "output_type": "execute_result",
          "data": {
            "text/plain": [
              "array([[ 9, 12, 15],\n",
              "       [19, 26, 33],\n",
              "       [34, 47, 60]])"
            ]
          },
          "metadata": {},
          "execution_count": 542
        }
      ]
    },
    {
      "cell_type": "code",
      "source": [
        "m=np.identity(3)\n",
        "np.linalg.det(m)    # Find the determinant"
      ],
      "metadata": {
        "colab": {
          "base_uri": "https://localhost:8080/"
        },
        "id": "g4z7FBRCHa8d",
        "outputId": "f832541f-8e33-4212-d54f-20ad16d79d25"
      },
      "execution_count": null,
      "outputs": [
        {
          "output_type": "execute_result",
          "data": {
            "text/plain": [
              "1.0"
            ]
          },
          "metadata": {},
          "execution_count": 543
        }
      ]
    },
    {
      "cell_type": "markdown",
      "source": [
        "**Statistics**"
      ],
      "metadata": {
        "id": "8IbErRBWIt2W"
      }
    },
    {
      "cell_type": "code",
      "source": [
        "h=np.array([[1,2,3],[4,5,6]])\n",
        "print(h)"
      ],
      "metadata": {
        "colab": {
          "base_uri": "https://localhost:8080/"
        },
        "id": "KGzt4E8VHa6Q",
        "outputId": "b87b25be-0b06-419a-c48b-d964d450e221"
      },
      "execution_count": null,
      "outputs": [
        {
          "output_type": "stream",
          "name": "stdout",
          "text": [
            "[[1 2 3]\n",
            " [4 5 6]]\n"
          ]
        }
      ]
    },
    {
      "cell_type": "code",
      "source": [
        "np.min(h)  # minimum element in the matrix"
      ],
      "metadata": {
        "colab": {
          "base_uri": "https://localhost:8080/"
        },
        "id": "7hOkoCAFI0om",
        "outputId": "eec16661-183b-4297-f07d-a92c2c7a30c0"
      },
      "execution_count": null,
      "outputs": [
        {
          "output_type": "execute_result",
          "data": {
            "text/plain": [
              "1"
            ]
          },
          "metadata": {},
          "execution_count": 545
        }
      ]
    },
    {
      "cell_type": "code",
      "source": [
        "np.max(h)  # Maximum element in the matrix"
      ],
      "metadata": {
        "colab": {
          "base_uri": "https://localhost:8080/"
        },
        "id": "7QZLdz2AI0lC",
        "outputId": "cf09ba86-5639-4c63-b2bb-bbfea4f368b3"
      },
      "execution_count": null,
      "outputs": [
        {
          "output_type": "execute_result",
          "data": {
            "text/plain": [
              "6"
            ]
          },
          "metadata": {},
          "execution_count": 546
        }
      ]
    },
    {
      "cell_type": "code",
      "source": [
        "np.sum(h)   # Sum of the matrix"
      ],
      "metadata": {
        "colab": {
          "base_uri": "https://localhost:8080/"
        },
        "id": "ki_nr08cI0ix",
        "outputId": "8e6782c5-559f-4c4c-d5d7-621cff394c46"
      },
      "execution_count": null,
      "outputs": [
        {
          "output_type": "execute_result",
          "data": {
            "text/plain": [
              "21"
            ]
          },
          "metadata": {},
          "execution_count": 547
        }
      ]
    },
    {
      "cell_type": "code",
      "source": [
        "np.sum(h,axis=0)   # sum of column"
      ],
      "metadata": {
        "colab": {
          "base_uri": "https://localhost:8080/"
        },
        "id": "jswON5wrI0fZ",
        "outputId": "8451e4af-7281-4e26-9eb0-b9b6a5c8606d"
      },
      "execution_count": null,
      "outputs": [
        {
          "output_type": "execute_result",
          "data": {
            "text/plain": [
              "array([5, 7, 9])"
            ]
          },
          "metadata": {},
          "execution_count": 548
        }
      ]
    },
    {
      "cell_type": "markdown",
      "source": [
        "**Reorganizing Arrays**"
      ],
      "metadata": {
        "id": "79LnKMAVI9jf"
      }
    },
    {
      "cell_type": "code",
      "source": [
        "before = np.array([[1,2,3,4],[5,6,7,8]])\n",
        "print(before)\n",
        "\n",
        "after=before.reshape((8,1))    # reshape the matrix \n",
        "print(after)"
      ],
      "metadata": {
        "colab": {
          "base_uri": "https://localhost:8080/"
        },
        "id": "g0uvG7OaI7vf",
        "outputId": "0e31f295-fae1-4626-d065-fd6227bd7755"
      },
      "execution_count": null,
      "outputs": [
        {
          "output_type": "stream",
          "name": "stdout",
          "text": [
            "[[1 2 3 4]\n",
            " [5 6 7 8]]\n",
            "[[1]\n",
            " [2]\n",
            " [3]\n",
            " [4]\n",
            " [5]\n",
            " [6]\n",
            " [7]\n",
            " [8]]\n"
          ]
        }
      ]
    },
    {
      "cell_type": "code",
      "source": [
        "m1=np.array([1,2,3,4])\n",
        "m2=np.array([5,6,7,8])\n",
        "\n",
        "np.vstack([m1,m2])         # Vertically stacking vectors"
      ],
      "metadata": {
        "id": "RFCtzdOPI7r6",
        "colab": {
          "base_uri": "https://localhost:8080/"
        },
        "outputId": "b1ff6791-5f7e-4a90-87c9-4cdb6ad264f5"
      },
      "execution_count": null,
      "outputs": [
        {
          "output_type": "execute_result",
          "data": {
            "text/plain": [
              "array([[1, 2, 3, 4],\n",
              "       [5, 6, 7, 8]])"
            ]
          },
          "metadata": {},
          "execution_count": 550
        }
      ]
    },
    {
      "cell_type": "code",
      "source": [
        "m1=np.ones((2,2))\n",
        "m2=np.zeros((2,2))\n",
        "m1,m2\n",
        "\n",
        "np.hstack((m1,m2))       # Horizontal stacking"
      ],
      "metadata": {
        "id": "rjSbMo0lJNQm",
        "colab": {
          "base_uri": "https://localhost:8080/"
        },
        "outputId": "9a5a9dfa-2043-4437-8448-c4524d84fd93"
      },
      "execution_count": null,
      "outputs": [
        {
          "output_type": "execute_result",
          "data": {
            "text/plain": [
              "array([[1., 1., 0., 0.],\n",
              "       [1., 1., 0., 0.]])"
            ]
          },
          "metadata": {},
          "execution_count": 551
        }
      ]
    },
    {
      "cell_type": "code",
      "source": [
        "# a=np.genfromtxt('sdata.txt',delimiter=\",\")\n",
        "# a = filedata.astype('int32')"
      ],
      "metadata": {
        "id": "WZlwSUR7JNNK"
      },
      "execution_count": null,
      "outputs": []
    },
    {
      "cell_type": "code",
      "source": [
        "a=np.array([[[1,2,3,4,5,6,7,8,9,10],[11,12,13,14,15,16,17,18,19,20],[21,22,23,24,25,26,27,28,29,30]]])\n",
        "print(a)"
      ],
      "metadata": {
        "id": "XbpPevBgJNJi",
        "colab": {
          "base_uri": "https://localhost:8080/"
        },
        "outputId": "123fa3ec-0f73-465d-91be-dc1d190b9a12"
      },
      "execution_count": null,
      "outputs": [
        {
          "output_type": "stream",
          "name": "stdout",
          "text": [
            "[[[ 1  2  3  4  5  6  7  8  9 10]\n",
            "  [11 12 13 14 15 16 17 18 19 20]\n",
            "  [21 22 23 24 25 26 27 28 29 30]]]\n"
          ]
        }
      ]
    },
    {
      "cell_type": "code",
      "source": [
        "a[a>5]   # accessing elements "
      ],
      "metadata": {
        "colab": {
          "base_uri": "https://localhost:8080/"
        },
        "id": "FHHc6yC6kPXK",
        "outputId": "7618c8e5-a04a-4182-f661-fd8824dca83d"
      },
      "execution_count": null,
      "outputs": [
        {
          "output_type": "execute_result",
          "data": {
            "text/plain": [
              "array([ 6,  7,  8,  9, 10, 11, 12, 13, 14, 15, 16, 17, 18, 19, 20, 21, 22,\n",
              "       23, 24, 25, 26, 27, 28, 29, 30])"
            ]
          },
          "metadata": {},
          "execution_count": 554
        }
      ]
    },
    {
      "cell_type": "code",
      "source": [
        "np.any(a>5,axis=0) # Boolean masking"
      ],
      "metadata": {
        "colab": {
          "base_uri": "https://localhost:8080/"
        },
        "id": "Wst2yXrZlwTw",
        "outputId": "02592df9-15ac-474e-abeb-ddc44d582a40"
      },
      "execution_count": null,
      "outputs": [
        {
          "output_type": "execute_result",
          "data": {
            "text/plain": [
              "array([[False, False, False, False, False,  True,  True,  True,  True,\n",
              "         True],\n",
              "       [ True,  True,  True,  True,  True,  True,  True,  True,  True,\n",
              "         True],\n",
              "       [ True,  True,  True,  True,  True,  True,  True,  True,  True,\n",
              "         True]])"
            ]
          },
          "metadata": {},
          "execution_count": 555
        }
      ]
    },
    {
      "cell_type": "code",
      "source": [
        "((a>5)&(a<20)),(~((a>5)&(a<25)))  # Masking"
      ],
      "metadata": {
        "colab": {
          "base_uri": "https://localhost:8080/"
        },
        "id": "DABlvvcHlwQW",
        "outputId": "bb7cb9e7-ee8a-4674-a24f-3980baf32a38"
      },
      "execution_count": null,
      "outputs": [
        {
          "output_type": "execute_result",
          "data": {
            "text/plain": [
              "(array([[[False, False, False, False, False,  True,  True,  True,  True,\n",
              "           True],\n",
              "         [ True,  True,  True,  True,  True,  True,  True,  True,  True,\n",
              "          False],\n",
              "         [False, False, False, False, False, False, False, False, False,\n",
              "          False]]]),\n",
              " array([[[ True,  True,  True,  True,  True, False, False, False, False,\n",
              "          False],\n",
              "         [False, False, False, False, False, False, False, False, False,\n",
              "          False],\n",
              "         [False, False, False, False,  True,  True,  True,  True,  True,\n",
              "           True]]]))"
            ]
          },
          "metadata": {},
          "execution_count": 556
        }
      ]
    },
    {
      "cell_type": "code",
      "source": [
        "d=np.array([1,2,3,4,5,6,7,8,9,10])\n",
        "d[[0,1,7]]        # Indexing with a list in numpy"
      ],
      "metadata": {
        "colab": {
          "base_uri": "https://localhost:8080/"
        },
        "id": "F2IyemsxlwOP",
        "outputId": "fcd092de-5241-446d-c71d-dcc3b6aa6cd5"
      },
      "execution_count": null,
      "outputs": [
        {
          "output_type": "execute_result",
          "data": {
            "text/plain": [
              "array([1, 2, 8])"
            ]
          },
          "metadata": {},
          "execution_count": 557
        }
      ]
    },
    {
      "cell_type": "markdown",
      "source": [
        "**Joining NumPy Arrays**"
      ],
      "metadata": {
        "id": "j16_YyIll8VN"
      }
    },
    {
      "cell_type": "code",
      "source": [
        "arr1 = np.array([1, 2, 3])\n",
        "arr2 = np.array([4, 5, 6])\n",
        "arr = np.concatenate((arr1, arr2))\n",
        "print(arr)"
      ],
      "metadata": {
        "colab": {
          "base_uri": "https://localhost:8080/"
        },
        "id": "XpsbFtyclwMB",
        "outputId": "c43103d8-2e8e-4690-94f9-2db1efe0af9c"
      },
      "execution_count": null,
      "outputs": [
        {
          "output_type": "stream",
          "name": "stdout",
          "text": [
            "[1 2 3 4 5 6]\n"
          ]
        }
      ]
    },
    {
      "cell_type": "code",
      "source": [
        "arr1 = np.array([[1, 2], [3, 4]])\n",
        "arr2 = np.array([[5, 6], [7, 8]])\n",
        "arr = np.concatenate((arr1, arr2), axis=1)\n",
        "print(arr)"
      ],
      "metadata": {
        "colab": {
          "base_uri": "https://localhost:8080/"
        },
        "id": "2090RSW1mEnX",
        "outputId": "db5050aa-bcbf-4fd7-88cd-240ef4e56fe9"
      },
      "execution_count": null,
      "outputs": [
        {
          "output_type": "stream",
          "name": "stdout",
          "text": [
            "[[1 2 5 6]\n",
            " [3 4 7 8]]\n"
          ]
        }
      ]
    },
    {
      "cell_type": "code",
      "source": [
        "arr1 = np.array([1, 2, 3])\n",
        "arr2 = np.array([4, 5, 6])\n",
        "arr = np.stack((arr1, arr2), axis=1)\n",
        "print(arr)"
      ],
      "metadata": {
        "colab": {
          "base_uri": "https://localhost:8080/"
        },
        "id": "LSP5cwzmmEj8",
        "outputId": "d43f3170-16cd-4a85-d2ae-933ab6e2de37"
      },
      "execution_count": null,
      "outputs": [
        {
          "output_type": "stream",
          "name": "stdout",
          "text": [
            "[[1 4]\n",
            " [2 5]\n",
            " [3 6]]\n"
          ]
        }
      ]
    },
    {
      "cell_type": "code",
      "source": [
        "arr1 = np.array([1, 2, 3])\n",
        "arr2 = np.array([4, 5, 6])\n",
        "arr = np.hstack((arr1, arr2))\n",
        "print(arr)"
      ],
      "metadata": {
        "colab": {
          "base_uri": "https://localhost:8080/"
        },
        "id": "UoAk4Ez4mEhe",
        "outputId": "31d7b743-7d17-464f-8429-575789f8ced0"
      },
      "execution_count": null,
      "outputs": [
        {
          "output_type": "stream",
          "name": "stdout",
          "text": [
            "[1 2 3 4 5 6]\n"
          ]
        }
      ]
    },
    {
      "cell_type": "code",
      "source": [
        "arr1 = np.array([[1, 2], [3, 4]])\n",
        "arr2 = np.array([[5, 6], [7, 8]])\n",
        "arr = np.hstack((arr1, arr2))   # Same has concatenation \n",
        "print(arr) "
      ],
      "metadata": {
        "colab": {
          "base_uri": "https://localhost:8080/"
        },
        "id": "T01DY6K0nWCz",
        "outputId": "1ae55cea-ca56-4e83-aca2-96da5b3e3507"
      },
      "execution_count": null,
      "outputs": [
        {
          "output_type": "stream",
          "name": "stdout",
          "text": [
            "[[1 2 5 6]\n",
            " [3 4 7 8]]\n"
          ]
        }
      ]
    },
    {
      "cell_type": "code",
      "source": [
        "arr1 = np.array([[1, 2], [3, 4],[1, 2], [3, 4]])\n",
        "arr2 = np.array([[5, 6], [7, 8],[5, 6], [7, 8]])\n",
        "arr = np.vstack((arr1, arr2))   # stack along columns.\n",
        "print(arr)"
      ],
      "metadata": {
        "colab": {
          "base_uri": "https://localhost:8080/"
        },
        "id": "9uZ0frTWnV_R",
        "outputId": "a7bd6796-6037-426a-b0e6-b1acb64ebc89"
      },
      "execution_count": null,
      "outputs": [
        {
          "output_type": "stream",
          "name": "stdout",
          "text": [
            "[[1 2]\n",
            " [3 4]\n",
            " [1 2]\n",
            " [3 4]\n",
            " [5 6]\n",
            " [7 8]\n",
            " [5 6]\n",
            " [7 8]]\n"
          ]
        }
      ]
    },
    {
      "cell_type": "markdown",
      "source": [
        "**Iterating Arrays**"
      ],
      "metadata": {
        "id": "HfC_lX_XnfH4"
      }
    },
    {
      "cell_type": "code",
      "source": [
        "# we can do this using basic for loop"
      ],
      "metadata": {
        "id": "66ZMQLRRnV8s"
      },
      "execution_count": null,
      "outputs": []
    },
    {
      "cell_type": "code",
      "source": [
        "# Iteration throw for loop (1-D array)\n",
        "a = np.array([1,2,3])\n",
        "for i in a:  \n",
        "    print(i)"
      ],
      "metadata": {
        "colab": {
          "base_uri": "https://localhost:8080/"
        },
        "id": "TCM6X2qqnjFD",
        "outputId": "165b47f4-b87a-4a00-9f55-248a5251e9de"
      },
      "execution_count": null,
      "outputs": [
        {
          "output_type": "stream",
          "name": "stdout",
          "text": [
            "1\n",
            "2\n",
            "3\n"
          ]
        }
      ]
    },
    {
      "cell_type": "code",
      "source": [
        "# Iterating 2-D array\n",
        "arr = np.array([[1, 2, 3], [4, 5, 6]])\n",
        "\n",
        "for x in arr:   \n",
        "  print(x)"
      ],
      "metadata": {
        "colab": {
          "base_uri": "https://localhost:8080/"
        },
        "id": "leLyCz70njBm",
        "outputId": "70701903-4676-4fc1-fa97-184c83fa5dba"
      },
      "execution_count": null,
      "outputs": [
        {
          "output_type": "stream",
          "name": "stdout",
          "text": [
            "[1 2 3]\n",
            "[4 5 6]\n"
          ]
        }
      ]
    },
    {
      "cell_type": "code",
      "source": [
        "# Iterating throw array elements in 2-D array\n",
        "arr = np.array([[1, 2, 3], [4, 5, 6]])\n",
        "\n",
        "for x in arr: \n",
        "  for y in x:    \n",
        "    print(y)"
      ],
      "metadata": {
        "colab": {
          "base_uri": "https://localhost:8080/"
        },
        "id": "X-jbSvB9ni_n",
        "outputId": "e48c9c3e-4fd1-4b47-a1a3-98e5e44a57a1"
      },
      "execution_count": null,
      "outputs": [
        {
          "output_type": "stream",
          "name": "stdout",
          "text": [
            "1\n",
            "2\n",
            "3\n",
            "4\n",
            "5\n",
            "6\n"
          ]
        }
      ]
    },
    {
      "cell_type": "code",
      "source": [
        "# Iterating 3-D array\n",
        "arr = np.array([[[1, 2, 3], [4, 5, 6]], [[7, 8, 9], [10, 11, 12]]])\n",
        "\n",
        "for x in arr:   \n",
        "  print(x)"
      ],
      "metadata": {
        "colab": {
          "base_uri": "https://localhost:8080/"
        },
        "id": "UHBl1t3Yni8k",
        "outputId": "126ee45f-7430-45de-f2f0-29b88914e33f"
      },
      "execution_count": null,
      "outputs": [
        {
          "output_type": "stream",
          "name": "stdout",
          "text": [
            "[[1 2 3]\n",
            " [4 5 6]]\n",
            "[[ 7  8  9]\n",
            " [10 11 12]]\n"
          ]
        }
      ]
    },
    {
      "cell_type": "code",
      "source": [
        "# Iterating throw array elements in 3-D array\n",
        "arr = np.array([[[1, 2, 3], [4, 5, 6]], [[7, 8, 9], [10, 11, 12]]])\n",
        "\n",
        "for x in arr:\n",
        "  for y in x:\n",
        "    for z in y:\n",
        "      print(z)"
      ],
      "metadata": {
        "colab": {
          "base_uri": "https://localhost:8080/"
        },
        "id": "eKuqc8gUnsqH",
        "outputId": "d33f5ade-47e2-496f-d0c7-1a308f61afa5"
      },
      "execution_count": null,
      "outputs": [
        {
          "output_type": "stream",
          "name": "stdout",
          "text": [
            "1\n",
            "2\n",
            "3\n",
            "4\n",
            "5\n",
            "6\n",
            "7\n",
            "8\n",
            "9\n",
            "10\n",
            "11\n",
            "12\n"
          ]
        }
      ]
    },
    {
      "cell_type": "code",
      "source": [
        "# Iterating Arrays Using nditer()\n",
        "arr = np.array([[[1, 2], [3, 4]], [[5, 6], [7, 8]]])\n",
        "\n",
        "for x in np.nditer(arr):\n",
        "  print(x)"
      ],
      "metadata": {
        "colab": {
          "base_uri": "https://localhost:8080/"
        },
        "id": "8C_5KpNxnsmj",
        "outputId": "25fe9ab8-f6fe-487c-8a9d-9d2d504ea6c9"
      },
      "execution_count": null,
      "outputs": [
        {
          "output_type": "stream",
          "name": "stdout",
          "text": [
            "1\n",
            "2\n",
            "3\n",
            "4\n",
            "5\n",
            "6\n",
            "7\n",
            "8\n"
          ]
        }
      ]
    },
    {
      "cell_type": "code",
      "source": [
        "#Iterating Array With Different Data Types\n",
        "arr = np.array([1, 2, 3])\n",
        "for x in np.nditer(arr, flags=['buffered'], op_dtypes=['S']):\n",
        "  print(x)"
      ],
      "metadata": {
        "colab": {
          "base_uri": "https://localhost:8080/"
        },
        "id": "x0A4DKfjnskH",
        "outputId": "039a4bfe-8fc0-4b13-d7a2-7f6f1531490d"
      },
      "execution_count": null,
      "outputs": [
        {
          "output_type": "stream",
          "name": "stdout",
          "text": [
            "b'1'\n",
            "b'2'\n",
            "b'3'\n"
          ]
        }
      ]
    },
    {
      "cell_type": "code",
      "source": [
        "# Iterating With Different Step Size\n",
        "arr = np.array([[1, 2, 3, 4], [5, 6, 7, 8]])\n",
        "\n",
        "for x in np.nditer(arr[:, ::2]):  \n",
        "  print(x)"
      ],
      "metadata": {
        "colab": {
          "base_uri": "https://localhost:8080/"
        },
        "id": "i7nN_H9qnsiD",
        "outputId": "879f1fff-f299-45a1-9dcc-4d932b846712"
      },
      "execution_count": null,
      "outputs": [
        {
          "output_type": "stream",
          "name": "stdout",
          "text": [
            "1\n",
            "3\n",
            "5\n",
            "7\n"
          ]
        }
      ]
    },
    {
      "cell_type": "code",
      "source": [
        "arr = np.array([1, 2, 3])\n",
        "\n",
        "for idx, x in np.ndenumerate(arr):\n",
        "  print(idx, x)"
      ],
      "metadata": {
        "colab": {
          "base_uri": "https://localhost:8080/"
        },
        "id": "V_E7mRvgoKtX",
        "outputId": "446aec02-553c-49fc-e99f-30e83d2b68d9"
      },
      "execution_count": null,
      "outputs": [
        {
          "output_type": "stream",
          "name": "stdout",
          "text": [
            "(0,) 1\n",
            "(1,) 2\n",
            "(2,) 3\n"
          ]
        }
      ]
    },
    {
      "cell_type": "code",
      "source": [
        "arr = np.array([[1, 2, 3, 4], [5, 6, 7, 8]])\n",
        "\n",
        "for idx, x in np.ndenumerate(arr):\n",
        "  print(idx, x)"
      ],
      "metadata": {
        "colab": {
          "base_uri": "https://localhost:8080/"
        },
        "id": "R-QkqJ2IoKp-",
        "outputId": "a9c57b7c-0945-4208-e60f-864177287597"
      },
      "execution_count": null,
      "outputs": [
        {
          "output_type": "stream",
          "name": "stdout",
          "text": [
            "(0, 0) 1\n",
            "(0, 1) 2\n",
            "(0, 2) 3\n",
            "(0, 3) 4\n",
            "(1, 0) 5\n",
            "(1, 1) 6\n",
            "(1, 2) 7\n",
            "(1, 3) 8\n"
          ]
        }
      ]
    },
    {
      "cell_type": "markdown",
      "source": [
        "**Mean,Median,Standard deviation**"
      ],
      "metadata": {
        "id": "vZHo0Fn1oada"
      }
    },
    {
      "cell_type": "code",
      "source": [
        "arr = np.array([4, 4, 4, 4, 4, 4, 8, 8,40])"
      ],
      "metadata": {
        "id": "KY9KFOm3oKoA"
      },
      "execution_count": null,
      "outputs": []
    },
    {
      "cell_type": "code",
      "source": [
        "np.mean(arr)"
      ],
      "metadata": {
        "colab": {
          "base_uri": "https://localhost:8080/"
        },
        "id": "99bfMVn7oKmJ",
        "outputId": "365b9e46-6d5c-4bbc-db25-17da9f080e47"
      },
      "execution_count": null,
      "outputs": [
        {
          "output_type": "execute_result",
          "data": {
            "text/plain": [
              "8.88888888888889"
            ]
          },
          "metadata": {},
          "execution_count": 576
        }
      ]
    },
    {
      "cell_type": "code",
      "source": [
        "np.median(arr)"
      ],
      "metadata": {
        "colab": {
          "base_uri": "https://localhost:8080/"
        },
        "id": "JWmyP7d_o1YO",
        "outputId": "4dd2f396-865c-43fb-e287-573e628c3e75"
      },
      "execution_count": null,
      "outputs": [
        {
          "output_type": "execute_result",
          "data": {
            "text/plain": [
              "4.0"
            ]
          },
          "metadata": {},
          "execution_count": 577
        }
      ]
    },
    {
      "cell_type": "code",
      "source": [
        "np.std(arr)"
      ],
      "metadata": {
        "colab": {
          "base_uri": "https://localhost:8080/"
        },
        "id": "3Dj-JMZ7o1Uy",
        "outputId": "6f66e453-b570-4e21-a19b-40d1ac609a0d"
      },
      "execution_count": null,
      "outputs": [
        {
          "output_type": "execute_result",
          "data": {
            "text/plain": [
              "11.119996447286049"
            ]
          },
          "metadata": {},
          "execution_count": 578
        }
      ]
    },
    {
      "cell_type": "code",
      "source": [
        "a=np.array(\n",
        "[[1,2,3],\n",
        "[4,5,6],\n",
        "[7,8,9,],\n",
        "[10,11,12]])"
      ],
      "metadata": {
        "id": "GTjpWS0No6JG"
      },
      "execution_count": null,
      "outputs": []
    },
    {
      "cell_type": "code",
      "source": [
        "np.shape(a)"
      ],
      "metadata": {
        "colab": {
          "base_uri": "https://localhost:8080/"
        },
        "id": "ltquAexio6Fj",
        "outputId": "942a67fc-4505-4fa4-d1db-1e30208b588d"
      },
      "execution_count": null,
      "outputs": [
        {
          "output_type": "execute_result",
          "data": {
            "text/plain": [
              "(4, 3)"
            ]
          },
          "metadata": {},
          "execution_count": 580
        }
      ]
    },
    {
      "cell_type": "code",
      "source": [
        "a[:,1]"
      ],
      "metadata": {
        "colab": {
          "base_uri": "https://localhost:8080/"
        },
        "id": "qaQjsqQeo6Dd",
        "outputId": "7ccd41b2-1a25-4fe0-8698-1336ad83a3fe"
      },
      "execution_count": null,
      "outputs": [
        {
          "output_type": "execute_result",
          "data": {
            "text/plain": [
              "array([ 2,  5,  8, 11])"
            ]
          },
          "metadata": {},
          "execution_count": 581
        }
      ]
    },
    {
      "cell_type": "code",
      "source": [
        "a[:,1].mean() # mean of a particular column"
      ],
      "metadata": {
        "colab": {
          "base_uri": "https://localhost:8080/"
        },
        "id": "_8EziZJApBY1",
        "outputId": "b52bdd38-2e9e-431c-dd4b-2aebcd6306cd"
      },
      "execution_count": null,
      "outputs": [
        {
          "output_type": "execute_result",
          "data": {
            "text/plain": [
              "6.5"
            ]
          },
          "metadata": {},
          "execution_count": 582
        }
      ]
    },
    {
      "cell_type": "code",
      "source": [
        "a.mean()   # Overall array mean"
      ],
      "metadata": {
        "colab": {
          "base_uri": "https://localhost:8080/"
        },
        "id": "7iGuRt9_pBVR",
        "outputId": "a2922fb3-9052-4dba-cadf-4a1259e6a81d"
      },
      "execution_count": null,
      "outputs": [
        {
          "output_type": "execute_result",
          "data": {
            "text/plain": [
              "6.5"
            ]
          },
          "metadata": {},
          "execution_count": 583
        }
      ]
    },
    {
      "cell_type": "code",
      "source": [
        "a.mean(axis=0) # Iterating over the axis"
      ],
      "metadata": {
        "colab": {
          "base_uri": "https://localhost:8080/"
        },
        "id": "pLPLoZ54pBS4",
        "outputId": "c656beb6-5f13-4157-b6f1-409e3e6fd18c"
      },
      "execution_count": null,
      "outputs": [
        {
          "output_type": "execute_result",
          "data": {
            "text/plain": [
              "array([5.5, 6.5, 7.5])"
            ]
          },
          "metadata": {},
          "execution_count": 584
        }
      ]
    },
    {
      "cell_type": "markdown",
      "source": [
        "# **MATHPLOTLIB**"
      ],
      "metadata": {
        "id": "PgiwgLZbSTHw"
      }
    },
    {
      "cell_type": "code",
      "source": [
        "from matplotlib import pyplot as plt\n",
        "import numpy as np"
      ],
      "metadata": {
        "id": "WYA2PKYwRNdK"
      },
      "execution_count": null,
      "outputs": []
    },
    {
      "cell_type": "code",
      "source": [
        "x = [5,2,7]\n",
        "y = [2,16,4] \n",
        "plt.plot(x,y)   # For ploting the graph\n",
        "plt.title('info')  # Title of the graph \n",
        "plt.ylabel('Y axis')  # Y-axis Label\n",
        "plt.xlabel('X axis')  # X-axis label\n",
        "plt.show()"
      ],
      "metadata": {
        "id": "6-ExdFm0RNbf",
        "colab": {
          "base_uri": "https://localhost:8080/",
          "height": 295
        },
        "outputId": "cb6d3af1-840e-4cf0-eefa-f7156114f402"
      },
      "execution_count": null,
      "outputs": [
        {
          "output_type": "display_data",
          "data": {
            "text/plain": [
              "<Figure size 432x288 with 1 Axes>"
            ],
            "image/png": "[encoded data removed]"
          },
          "metadata": {
            "needs_background": "light"
          }
        }
      ]
    },
    {
      "cell_type": "code",
      "source": [
        "x = np.array([0,8])\n",
        "y = np.array([0,4])\n",
        "plt.plot(x,y,'o')  # Ploting with out line (dots) \n",
        "plt.show"
      ],
      "metadata": {
        "id": "tw3ZTCX-RNZu",
        "colab": {
          "base_uri": "https://localhost:8080/",
          "height": 282
        },
        "outputId": "8fa3f092-85ec-4fb8-98e1-79f05e5971c0"
      },
      "execution_count": null,
      "outputs": [
        {
          "output_type": "execute_result",
          "data": {
            "text/plain": [
              "<function matplotlib.pyplot.show(*args, **kw)>"
            ]
          },
          "metadata": {},
          "execution_count": 587
        },
        {
          "output_type": "display_data",
          "data": {
            "text/plain": [
              "<Figure size 432x288 with 1 Axes>"
            ],
            "image/png": "[encoded data removed]"
          },
          "metadata": {
            "needs_background": "light"
          }
        }
      ]
    },
    {
      "cell_type": "markdown",
      "source": [
        "**Multiple points** "
      ],
      "metadata": {
        "id": "CNhamrRaS4Y0"
      }
    },
    {
      "cell_type": "code",
      "source": [
        "x = np.array([1,2,6,8])\n",
        "y = np.array([3,8,1,10])\n",
        "plt.plot(x,y)\n",
        "plt.show()"
      ],
      "metadata": {
        "id": "lVqN57WcRNYI",
        "colab": {
          "base_uri": "https://localhost:8080/",
          "height": 265
        },
        "outputId": "68930b97-caf2-4dea-bd85-c6c445c8ad73"
      },
      "execution_count": null,
      "outputs": [
        {
          "output_type": "display_data",
          "data": {
            "text/plain": [
              "<Figure size 432x288 with 1 Axes>"
            ],
            "image/png": "[encoded data removed]"
          },
          "metadata": {
            "needs_background": "light"
          }
        }
      ]
    },
    {
      "cell_type": "markdown",
      "source": [
        "**Default points**"
      ],
      "metadata": {
        "id": "2ZilccT4TD0u"
      }
    },
    {
      "cell_type": "code",
      "source": [
        "y = np.array([3,8,1,10])\n",
        "plt.plot(y)\n",
        "plt.show()"
      ],
      "metadata": {
        "id": "MuIpqn1HRNV7",
        "colab": {
          "base_uri": "https://localhost:8080/",
          "height": 265
        },
        "outputId": "27961852-8cbb-4553-9e85-95334177c48c"
      },
      "execution_count": null,
      "outputs": [
        {
          "output_type": "display_data",
          "data": {
            "text/plain": [
              "<Figure size 432x288 with 1 Axes>"
            ],
            "image/png": "[encoded data removed]"
          },
          "metadata": {
            "needs_background": "light"
          }
        }
      ]
    },
    {
      "cell_type": "markdown",
      "source": [
        "**Markers**"
      ],
      "metadata": {
        "id": "r9oZq82zTPAW"
      }
    },
    {
      "cell_type": "code",
      "source": [
        "y = np.array([3,8,1,10])\n",
        "plt.plot(y,marker='o')   # Adding marker \n",
        "plt.show()"
      ],
      "metadata": {
        "id": "ssx2A7uqRNT6",
        "colab": {
          "base_uri": "https://localhost:8080/",
          "height": 265
        },
        "outputId": "12568343-8132-40a9-8bb5-6f6bbf36f0ce"
      },
      "execution_count": null,
      "outputs": [
        {
          "output_type": "display_data",
          "data": {
            "text/plain": [
              "<Figure size 432x288 with 1 Axes>"
            ],
            "image/png": "[encoded data removed]"
          },
          "metadata": {
            "needs_background": "light"
          }
        }
      ]
    },
    {
      "cell_type": "code",
      "source": [
        "y = np.array([3,8,1,10])\n",
        "plt.plot(y,marker='o',ms=10,mec='r',mfc='g') # ms - marker size , mec - markeredgecolor , mfc - markerfacecolor  # marker size and color change\n",
        "plt.show()"
      ],
      "metadata": {
        "id": "lnX3meoBRNRx",
        "colab": {
          "base_uri": "https://localhost:8080/",
          "height": 265
        },
        "outputId": "dc11f589-640d-481d-acdd-9e768b22c058"
      },
      "execution_count": null,
      "outputs": [
        {
          "output_type": "display_data",
          "data": {
            "text/plain": [
              "<Figure size 432x288 with 1 Axes>"
            ],
            "image/png": "[encoded data removed]"
          },
          "metadata": {
            "needs_background": "light"
          }
        }
      ]
    },
    {
      "cell_type": "markdown",
      "source": [
        "**Colors**"
      ],
      "metadata": {
        "id": "gcJGUS4BTbYS"
      }
    },
    {
      "cell_type": "code",
      "source": [
        "y = np.array([3,8,1,10])\n",
        "plt.plot(y, 'o:r')  # line style # marker|line|color (shortcut)\n",
        "plt.show()"
      ],
      "metadata": {
        "id": "5h6krF_cRNPp",
        "colab": {
          "base_uri": "https://localhost:8080/",
          "height": 265
        },
        "outputId": "dd980b8c-2f5f-4a47-f513-a3dc6fe87004"
      },
      "execution_count": null,
      "outputs": [
        {
          "output_type": "display_data",
          "data": {
            "text/plain": [
              "<Figure size 432x288 with 1 Axes>"
            ],
            "image/png": "[encoded data removed]"
          },
          "metadata": {
            "needs_background": "light"
          }
        }
      ]
    },
    {
      "cell_type": "markdown",
      "source": [
        "**Subplot**"
      ],
      "metadata": {
        "id": "zjG3HciQTmyc"
      }
    },
    {
      "cell_type": "code",
      "source": [
        "x = np.array([0,1,2,3])\n",
        "y = np.array([3,8,1,10])\n",
        "\n",
        "plt.subplot(1,2,1) # Subploting(row,parts,column)\n",
        "plt.plot(x,y)  \n",
        "plt.show\n",
        "\n",
        "x = np.array([0,1,2,3])\n",
        "y = np.array([10,20,30,40])\n",
        "\n",
        "plt.subplot(1,2,2)\n",
        "plt.plot(x,y)  \n",
        "plt.show"
      ],
      "metadata": {
        "id": "m8-Ki8C7RNNX",
        "colab": {
          "base_uri": "https://localhost:8080/",
          "height": 282
        },
        "outputId": "71f4f0a5-434a-4a48-ec9a-0913d4745a86"
      },
      "execution_count": null,
      "outputs": [
        {
          "output_type": "execute_result",
          "data": {
            "text/plain": [
              "<function matplotlib.pyplot.show(*args, **kw)>"
            ]
          },
          "metadata": {},
          "execution_count": 593
        },
        {
          "output_type": "display_data",
          "data": {
            "text/plain": [
              "<Figure size 432x288 with 2 Axes>"
            ],
            "image/png": "[encoded data removed]"
          },
          "metadata": {
            "needs_background": "light"
          }
        }
      ]
    },
    {
      "cell_type": "markdown",
      "source": [
        "# **PANDAS**"
      ],
      "metadata": {
        "id": "iTW-90_iUB29"
      }
    },
    {
      "cell_type": "code",
      "source": [
        "import pandas as pd\n",
        "import numpy as np"
      ],
      "metadata": {
        "id": "VcepL_04RMsQ"
      },
      "execution_count": null,
      "outputs": []
    },
    {
      "cell_type": "code",
      "source": [
        "# creating array with numpy\n",
        "numpy_array = np.array(['E','d','y','s','t'])  \n",
        " \n",
        "# creating pandas series\n",
        "pandas_series = pd.Series(numpy_array,index=[1,2,3,4,5])  # Series\n",
        " \n",
        "print(pandas_series)"
      ],
      "metadata": {
        "id": "mgxluS2zRMqz",
        "colab": {
          "base_uri": "https://localhost:8080/"
        },
        "outputId": "f422d134-8f8d-41db-d7f0-c5e7194da3b6"
      },
      "execution_count": null,
      "outputs": [
        {
          "output_type": "stream",
          "name": "stdout",
          "text": [
            "1    E\n",
            "2    d\n",
            "3    y\n",
            "4    s\n",
            "5    t\n",
            "dtype: object\n"
          ]
        }
      ]
    },
    {
      "cell_type": "code",
      "source": [
        "a={\n",
        "'python_list' :['Python', 'Pandas', 'Numpy', 'Edyst'] }\n",
        "  \n",
        "# creating datadrame from list\n",
        "pandas_df = pd.DataFrame(a)  \n",
        "print(pandas_df)"
      ],
      "metadata": {
        "colab": {
          "base_uri": "https://localhost:8080/"
        },
        "id": "Uy7qzoJGV-yh",
        "outputId": "709cd3f0-a965-425b-f349-477071c50834"
      },
      "execution_count": null,
      "outputs": [
        {
          "output_type": "stream",
          "name": "stdout",
          "text": [
            "  python_list\n",
            "0      Python\n",
            "1      Pandas\n",
            "2       Numpy\n",
            "3       Edyst\n"
          ]
        }
      ]
    },
    {
      "cell_type": "code",
      "source": [
        "# creating list of strings \n",
        "a={\n",
        "'python_list' :['Python', 'Pandas', 'Numpy', 'Edyst'] }\n",
        "  \n",
        "# creating datadrame from list\n",
        "pandas_df1 = pd.DataFrame(a,index=[1,2,3,4])  \n",
        "print(pandas_df1)"
      ],
      "metadata": {
        "id": "DKHHEWdFRMo0",
        "colab": {
          "base_uri": "https://localhost:8080/"
        },
        "outputId": "3011f314-77e8-42fc-ceba-4d1e9221dcb6"
      },
      "execution_count": null,
      "outputs": [
        {
          "output_type": "stream",
          "name": "stdout",
          "text": [
            "  python_list\n",
            "1      Python\n",
            "2      Pandas\n",
            "3       Numpy\n",
            "4       Edyst\n"
          ]
        }
      ]
    },
    {
      "cell_type": "code",
      "source": [
        "#refer to the row index:\n",
        "print(pandas_df.loc[0])"
      ],
      "metadata": {
        "id": "BbqCbJBfRMm_",
        "colab": {
          "base_uri": "https://localhost:8080/"
        },
        "outputId": "830324e9-887f-41a9-cbe9-9ff8f227966b"
      },
      "execution_count": null,
      "outputs": [
        {
          "output_type": "stream",
          "name": "stdout",
          "text": [
            "python_list    Python\n",
            "Name: 0, dtype: object\n"
          ]
        }
      ]
    },
    {
      "cell_type": "code",
      "source": [
        "df = pd.read_csv('/content/car_evaluation.csv')\n",
        "\n",
        "print(df.to_string()) "
      ],
      "metadata": {
        "id": "BPMD26TqRMj8",
        "colab": {
          "base_uri": "https://localhost:8080/"
        },
        "outputId": "28313cdf-9cfe-4769-dcc5-69a5f54939ff"
      },
      "execution_count": null,
      "outputs": [
        {
          "output_type": "stream",
          "name": "stdout",
          "text": [
            "      vhigh vhigh.1      2   2.1  small   low  unacc\n",
            "0     vhigh   vhigh      2     2  small   med  unacc\n",
            "1     vhigh   vhigh      2     2  small  high  unacc\n",
            "2     vhigh   vhigh      2     2    med   low  unacc\n",
            "3     vhigh   vhigh      2     2    med   med  unacc\n",
            "4     vhigh   vhigh      2     2    med  high  unacc\n",
            "5     vhigh   vhigh      2     2    big   low  unacc\n",
            "6     vhigh   vhigh      2     2    big   med  unacc\n",
            "7     vhigh   vhigh      2     2    big  high  unacc\n",
            "8     vhigh   vhigh      2     4  small   low  unacc\n",
            "9     vhigh   vhigh      2     4  small   med  unacc\n",
            "10    vhigh   vhigh      2     4  small  high  unacc\n",
            "11    vhigh   vhigh      2     4    med   low  unacc\n",
            "12    vhigh   vhigh      2     4    med   med  unacc\n",
            "13    vhigh   vhigh      2     4    med  high  unacc\n",
            "14    vhigh   vhigh      2     4    big   low  unacc\n",
            "15    vhigh   vhigh      2     4    big   med  unacc\n",
            "16    vhigh   vhigh      2     4    big  high  unacc\n",
            "17    vhigh   vhigh      2  more  small   low  unacc\n",
            "18    vhigh   vhigh      2  more  small   med  unacc\n",
            "19    vhigh   vhigh      2  more  small  high  unacc\n",
            "20    vhigh   vhigh      2  more    med   low  unacc\n",
            "21    vhigh   vhigh      2  more    med   med  unacc\n",
            "22    vhigh   vhigh      2  more    med  high  unacc\n",
            "23    vhigh   vhigh      2  more    big   low  unacc\n",
            "24    vhigh   vhigh      2  more    big   med  unacc\n",
            "25    vhigh   vhigh      2  more    big  high  unacc\n",
            "26    vhigh   vhigh      3     2  small   low  unacc\n",
            "27    vhigh   vhigh      3     2  small   med  unacc\n",
            "28    vhigh   vhigh      3     2  small  high  unacc\n",
            "29    vhigh   vhigh      3     2    med   low  unacc\n",
            "30    vhigh   vhigh      3     2    med   med  unacc\n",
            "31    vhigh   vhigh      3     2    med  high  unacc\n",
            "32    vhigh   vhigh      3     2    big   low  unacc\n",
            "33    vhigh   vhigh      3     2    big   med  unacc\n",
            "34    vhigh   vhigh      3     2    big  high  unacc\n",
            "35    vhigh   vhigh      3     4  small   low  unacc\n",
            "36    vhigh   vhigh      3     4  small   med  unacc\n",
            "37    vhigh   vhigh      3     4  small  high  unacc\n",
            "38    vhigh   vhigh      3     4    med   low  unacc\n",
            "39    vhigh   vhigh      3     4    med   med  unacc\n",
            "40    vhigh   vhigh      3     4    med  high  unacc\n",
            "41    vhigh   vhigh      3     4    big   low  unacc\n",
            "42    vhigh   vhigh      3     4    big   med  unacc\n",
            "43    vhigh   vhigh      3     4    big  high  unacc\n",
            "44    vhigh   vhigh      3  more  small   low  unacc\n",
            "45    vhigh   vhigh      3  more  small   med  unacc\n",
            "46    vhigh   vhigh      3  more  small  high  unacc\n",
            "47    vhigh   vhigh      3  more    med   low  unacc\n",
            "48    vhigh   vhigh      3  more    med   med  unacc\n",
            "49    vhigh   vhigh      3  more    med  high  unacc\n",
            "50    vhigh   vhigh      3  more    big   low  unacc\n",
            "51    vhigh   vhigh      3  more    big   med  unacc\n",
            "52    vhigh   vhigh      3  more    big  high  unacc\n",
            "53    vhigh   vhigh      4     2  small   low  unacc\n",
            "54    vhigh   vhigh      4     2  small   med  unacc\n",
            "55    vhigh   vhigh      4     2  small  high  unacc\n",
            "56    vhigh   vhigh      4     2    med   low  unacc\n",
            "57    vhigh   vhigh      4     2    med   med  unacc\n",
            "58    vhigh   vhigh      4     2    med  high  unacc\n",
            "59    vhigh   vhigh      4     2    big   low  unacc\n",
            "60    vhigh   vhigh      4     2    big   med  unacc\n",
            "61    vhigh   vhigh      4     2    big  high  unacc\n",
            "62    vhigh   vhigh      4     4  small   low  unacc\n",
            "63    vhigh   vhigh      4     4  small   med  unacc\n",
            "64    vhigh   vhigh      4     4  small  high  unacc\n",
            "65    vhigh   vhigh      4     4    med   low  unacc\n",
            "66    vhigh   vhigh      4     4    med   med  unacc\n",
            "67    vhigh   vhigh      4     4    med  high  unacc\n",
            "68    vhigh   vhigh      4     4    big   low  unacc\n",
            "69    vhigh   vhigh      4     4    big   med  unacc\n",
            "70    vhigh   vhigh      4     4    big  high  unacc\n",
            "71    vhigh   vhigh      4  more  small   low  unacc\n",
            "72    vhigh   vhigh      4  more  small   med  unacc\n",
            "73    vhigh   vhigh      4  more  small  high  unacc\n",
            "74    vhigh   vhigh      4  more    med   low  unacc\n",
            "75    vhigh   vhigh      4  more    med   med  unacc\n",
            "76    vhigh   vhigh      4  more    med  high  unacc\n",
            "77    vhigh   vhigh      4  more    big   low  unacc\n",
            "78    vhigh   vhigh      4  more    big   med  unacc\n",
            "79    vhigh   vhigh      4  more    big  high  unacc\n",
            "80    vhigh   vhigh  5more     2  small   low  unacc\n",
            "81    vhigh   vhigh  5more     2  small   med  unacc\n",
            "82    vhigh   vhigh  5more     2  small  high  unacc\n",
            "83    vhigh   vhigh  5more     2    med   low  unacc\n",
            "84    vhigh   vhigh  5more     2    med   med  unacc\n",
            "85    vhigh   vhigh  5more     2    med  high  unacc\n",
            "86    vhigh   vhigh  5more     2    big   low  unacc\n",
            "87    vhigh   vhigh  5more     2    big   med  unacc\n",
            "88    vhigh   vhigh  5more     2    big  high  unacc\n",
            "89    vhigh   vhigh  5more     4  small   low  unacc\n",
            "90    vhigh   vhigh  5more     4  small   med  unacc\n",
            "91    vhigh   vhigh  5more     4  small  high  unacc\n",
            "92    vhigh   vhigh  5more     4    med   low  unacc\n",
            "93    vhigh   vhigh  5more     4    med   med  unacc\n",
            "94    vhigh   vhigh  5more     4    med  high  unacc\n",
            "95    vhigh   vhigh  5more     4    big   low  unacc\n",
            "96    vhigh   vhigh  5more     4    big   med  unacc\n",
            "97    vhigh   vhigh  5more     4    big  high  unacc\n",
            "98    vhigh   vhigh  5more  more  small   low  unacc\n",
            "99    vhigh   vhigh  5more  more  small   med  unacc\n",
            "100   vhigh   vhigh  5more  more  small  high  unacc\n",
            "101   vhigh   vhigh  5more  more    med   low  unacc\n",
            "102   vhigh   vhigh  5more  more    med   med  unacc\n",
            "103   vhigh   vhigh  5more  more    med  high  unacc\n",
            "104   vhigh   vhigh  5more  more    big   low  unacc\n",
            "105   vhigh   vhigh  5more  more    big   med  unacc\n",
            "106   vhigh   vhigh  5more  more    big  high  unacc\n",
            "107   vhigh    high      2     2  small   low  unacc\n",
            "108   vhigh    high      2     2  small   med  unacc\n",
            "109   vhigh    high      2     2  small  high  unacc\n",
            "110   vhigh    high      2     2    med   low  unacc\n",
            "111   vhigh    high      2     2    med   med  unacc\n",
            "112   vhigh    high      2     2    med  high  unacc\n",
            "113   vhigh    high      2     2    big   low  unacc\n",
            "114   vhigh    high      2     2    big   med  unacc\n",
            "115   vhigh    high      2     2    big  high  unacc\n",
            "116   vhigh    high      2     4  small   low  unacc\n",
            "117   vhigh    high      2     4  small   med  unacc\n",
            "118   vhigh    high      2     4  small  high  unacc\n",
            "119   vhigh    high      2     4    med   low  unacc\n",
            "120   vhigh    high      2     4    med   med  unacc\n",
            "121   vhigh    high      2     4    med  high  unacc\n",
            "122   vhigh    high      2     4    big   low  unacc\n",
            "123   vhigh    high      2     4    big   med  unacc\n",
            "124   vhigh    high      2     4    big  high  unacc\n",
            "125   vhigh    high      2  more  small   low  unacc\n",
            "126   vhigh    high      2  more  small   med  unacc\n",
            "127   vhigh    high      2  more  small  high  unacc\n",
            "128   vhigh    high      2  more    med   low  unacc\n",
            "129   vhigh    high      2  more    med   med  unacc\n",
            "130   vhigh    high      2  more    med  high  unacc\n",
            "131   vhigh    high      2  more    big   low  unacc\n",
            "132   vhigh    high      2  more    big   med  unacc\n",
            "133   vhigh    high      2  more    big  high  unacc\n",
            "134   vhigh    high      3     2  small   low  unacc\n",
            "135   vhigh    high      3     2  small   med  unacc\n",
            "136   vhigh    high      3     2  small  high  unacc\n",
            "137   vhigh    high      3     2    med   low  unacc\n",
            "138   vhigh    high      3     2    med   med  unacc\n",
            "139   vhigh    high      3     2    med  high  unacc\n",
            "140   vhigh    high      3     2    big   low  unacc\n",
            "141   vhigh    high      3     2    big   med  unacc\n",
            "142   vhigh    high      3     2    big  high  unacc\n",
            "143   vhigh    high      3     4  small   low  unacc\n",
            "144   vhigh    high      3     4  small   med  unacc\n",
            "145   vhigh    high      3     4  small  high  unacc\n",
            "146   vhigh    high      3     4    med   low  unacc\n",
            "147   vhigh    high      3     4    med   med  unacc\n",
            "148   vhigh    high      3     4    med  high  unacc\n",
            "149   vhigh    high      3     4    big   low  unacc\n",
            "150   vhigh    high      3     4    big   med  unacc\n",
            "151   vhigh    high      3     4    big  high  unacc\n",
            "152   vhigh    high      3  more  small   low  unacc\n",
            "153   vhigh    high      3  more  small   med  unacc\n",
            "154   vhigh    high      3  more  small  high  unacc\n",
            "155   vhigh    high      3  more    med   low  unacc\n",
            "156   vhigh    high      3  more    med   med  unacc\n",
            "157   vhigh    high      3  more    med  high  unacc\n",
            "158   vhigh    high      3  more    big   low  unacc\n",
            "159   vhigh    high      3  more    big   med  unacc\n",
            "160   vhigh    high      3  more    big  high  unacc\n",
            "161   vhigh    high      4     2  small   low  unacc\n",
            "162   vhigh    high      4     2  small   med  unacc\n",
            "163   vhigh    high      4     2  small  high  unacc\n",
            "164   vhigh    high      4     2    med   low  unacc\n",
            "165   vhigh    high      4     2    med   med  unacc\n",
            "166   vhigh    high      4     2    med  high  unacc\n",
            "167   vhigh    high      4     2    big   low  unacc\n",
            "168   vhigh    high      4     2    big   med  unacc\n",
            "169   vhigh    high      4     2    big  high  unacc\n",
            "170   vhigh    high      4     4  small   low  unacc\n",
            "171   vhigh    high      4     4  small   med  unacc\n",
            "172   vhigh    high      4     4  small  high  unacc\n",
            "173   vhigh    high      4     4    med   low  unacc\n",
            "174   vhigh    high      4     4    med   med  unacc\n",
            "175   vhigh    high      4     4    med  high  unacc\n",
            "176   vhigh    high      4     4    big   low  unacc\n",
            "177   vhigh    high      4     4    big   med  unacc\n",
            "178   vhigh    high      4     4    big  high  unacc\n",
            "179   vhigh    high      4  more  small   low  unacc\n",
            "180   vhigh    high      4  more  small   med  unacc\n",
            "181   vhigh    high      4  more  small  high  unacc\n",
            "182   vhigh    high      4  more    med   low  unacc\n",
            "183   vhigh    high      4  more    med   med  unacc\n",
            "184   vhigh    high      4  more    med  high  unacc\n",
            "185   vhigh    high      4  more    big   low  unacc\n",
            "186   vhigh    high      4  more    big   med  unacc\n",
            "187   vhigh    high      4  more    big  high  unacc\n",
            "188   vhigh    high  5more     2  small   low  unacc\n",
            "189   vhigh    high  5more     2  small   med  unacc\n",
            "190   vhigh    high  5more     2  small  high  unacc\n",
            "191   vhigh    high  5more     2    med   low  unacc\n",
            "192   vhigh    high  5more     2    med   med  unacc\n",
            "193   vhigh    high  5more     2    med  high  unacc\n",
            "194   vhigh    high  5more     2    big   low  unacc\n",
            "195   vhigh    high  5more     2    big   med  unacc\n",
            "196   vhigh    high  5more     2    big  high  unacc\n",
            "197   vhigh    high  5more     4  small   low  unacc\n",
            "198   vhigh    high  5more     4  small   med  unacc\n",
            "199   vhigh    high  5more     4  small  high  unacc\n",
            "200   vhigh    high  5more     4    med   low  unacc\n",
            "201   vhigh    high  5more     4    med   med  unacc\n",
            "202   vhigh    high  5more     4    med  high  unacc\n",
            "203   vhigh    high  5more     4    big   low  unacc\n",
            "204   vhigh    high  5more     4    big   med  unacc\n",
            "205   vhigh    high  5more     4    big  high  unacc\n",
            "206   vhigh    high  5more  more  small   low  unacc\n",
            "207   vhigh    high  5more  more  small   med  unacc\n",
            "208   vhigh    high  5more  more  small  high  unacc\n",
            "209   vhigh    high  5more  more    med   low  unacc\n",
            "210   vhigh    high  5more  more    med   med  unacc\n",
            "211   vhigh    high  5more  more    med  high  unacc\n",
            "212   vhigh    high  5more  more    big   low  unacc\n",
            "213   vhigh    high  5more  more    big   med  unacc\n",
            "214   vhigh    high  5more  more    big  high  unacc\n",
            "215   vhigh     med      2     2  small   low  unacc\n",
            "216   vhigh     med      2     2  small   med  unacc\n",
            "217   vhigh     med      2     2  small  high  unacc\n",
            "218   vhigh     med      2     2    med   low  unacc\n",
            "219   vhigh     med      2     2    med   med  unacc\n",
            "220   vhigh     med      2     2    med  high  unacc\n",
            "221   vhigh     med      2     2    big   low  unacc\n",
            "222   vhigh     med      2     2    big   med  unacc\n",
            "223   vhigh     med      2     2    big  high  unacc\n",
            "224   vhigh     med      2     4  small   low  unacc\n",
            "225   vhigh     med      2     4  small   med  unacc\n",
            "226   vhigh     med      2     4  small  high    acc\n",
            "227   vhigh     med      2     4    med   low  unacc\n",
            "228   vhigh     med      2     4    med   med  unacc\n",
            "229   vhigh     med      2     4    med  high    acc\n",
            "230   vhigh     med      2     4    big   low  unacc\n",
            "231   vhigh     med      2     4    big   med    acc\n",
            "232   vhigh     med      2     4    big  high    acc\n",
            "233   vhigh     med      2  more  small   low  unacc\n",
            "234   vhigh     med      2  more  small   med  unacc\n",
            "235   vhigh     med      2  more  small  high  unacc\n",
            "236   vhigh     med      2  more    med   low  unacc\n",
            "237   vhigh     med      2  more    med   med  unacc\n",
            "238   vhigh     med      2  more    med  high    acc\n",
            "239   vhigh     med      2  more    big   low  unacc\n",
            "240   vhigh     med      2  more    big   med    acc\n",
            "241   vhigh     med      2  more    big  high    acc\n",
            "242   vhigh     med      3     2  small   low  unacc\n",
            "243   vhigh     med      3     2  small   med  unacc\n",
            "244   vhigh     med      3     2  small  high  unacc\n",
            "245   vhigh     med      3     2    med   low  unacc\n",
            "246   vhigh     med      3     2    med   med  unacc\n",
            "247   vhigh     med      3     2    med  high  unacc\n",
            "248   vhigh     med      3     2    big   low  unacc\n",
            "249   vhigh     med      3     2    big   med  unacc\n",
            "250   vhigh     med      3     2    big  high  unacc\n",
            "251   vhigh     med      3     4  small   low  unacc\n",
            "252   vhigh     med      3     4  small   med  unacc\n",
            "253   vhigh     med      3     4  small  high    acc\n",
            "254   vhigh     med      3     4    med   low  unacc\n",
            "255   vhigh     med      3     4    med   med  unacc\n",
            "256   vhigh     med      3     4    med  high    acc\n",
            "257   vhigh     med      3     4    big   low  unacc\n",
            "258   vhigh     med      3     4    big   med    acc\n",
            "259   vhigh     med      3     4    big  high    acc\n",
            "260   vhigh     med      3  more  small   low  unacc\n",
            "261   vhigh     med      3  more  small   med  unacc\n",
            "262   vhigh     med      3  more  small  high    acc\n",
            "263   vhigh     med      3  more    med   low  unacc\n",
            "264   vhigh     med      3  more    med   med    acc\n",
            "265   vhigh     med      3  more    med  high    acc\n",
            "266   vhigh     med      3  more    big   low  unacc\n",
            "267   vhigh     med      3  more    big   med    acc\n",
            "268   vhigh     med      3  more    big  high    acc\n",
            "269   vhigh     med      4     2  small   low  unacc\n",
            "270   vhigh     med      4     2  small   med  unacc\n",
            "271   vhigh     med      4     2  small  high  unacc\n",
            "272   vhigh     med      4     2    med   low  unacc\n",
            "273   vhigh     med      4     2    med   med  unacc\n",
            "274   vhigh     med      4     2    med  high  unacc\n",
            "275   vhigh     med      4     2    big   low  unacc\n",
            "276   vhigh     med      4     2    big   med  unacc\n",
            "277   vhigh     med      4     2    big  high  unacc\n",
            "278   vhigh     med      4     4  small   low  unacc\n",
            "279   vhigh     med      4     4  small   med  unacc\n",
            "280   vhigh     med      4     4  small  high    acc\n",
            "281   vhigh     med      4     4    med   low  unacc\n",
            "282   vhigh     med      4     4    med   med    acc\n",
            "283   vhigh     med      4     4    med  high    acc\n",
            "284   vhigh     med      4     4    big   low  unacc\n",
            "285   vhigh     med      4     4    big   med    acc\n",
            "286   vhigh     med      4     4    big  high    acc\n",
            "287   vhigh     med      4  more  small   low  unacc\n",
            "288   vhigh     med      4  more  small   med  unacc\n",
            "289   vhigh     med      4  more  small  high    acc\n",
            "290   vhigh     med      4  more    med   low  unacc\n",
            "291   vhigh     med      4  more    med   med    acc\n",
            "292   vhigh     med      4  more    med  high    acc\n",
            "293   vhigh     med      4  more    big   low  unacc\n",
            "294   vhigh     med      4  more    big   med    acc\n",
            "295   vhigh     med      4  more    big  high    acc\n",
            "296   vhigh     med  5more     2  small   low  unacc\n",
            "297   vhigh     med  5more     2  small   med  unacc\n",
            "298   vhigh     med  5more     2  small  high  unacc\n",
            "299   vhigh     med  5more     2    med   low  unacc\n",
            "300   vhigh     med  5more     2    med   med  unacc\n",
            "301   vhigh     med  5more     2    med  high  unacc\n",
            "302   vhigh     med  5more     2    big   low  unacc\n",
            "303   vhigh     med  5more     2    big   med  unacc\n",
            "304   vhigh     med  5more     2    big  high  unacc\n",
            "305   vhigh     med  5more     4  small   low  unacc\n",
            "306   vhigh     med  5more     4  small   med  unacc\n",
            "307   vhigh     med  5more     4  small  high    acc\n",
            "308   vhigh     med  5more     4    med   low  unacc\n",
            "309   vhigh     med  5more     4    med   med    acc\n",
            "310   vhigh     med  5more     4    med  high    acc\n",
            "311   vhigh     med  5more     4    big   low  unacc\n",
            "312   vhigh     med  5more     4    big   med    acc\n",
            "313   vhigh     med  5more     4    big  high    acc\n",
            "314   vhigh     med  5more  more  small   low  unacc\n",
            "315   vhigh     med  5more  more  small   med  unacc\n",
            "316   vhigh     med  5more  more  small  high    acc\n",
            "317   vhigh     med  5more  more    med   low  unacc\n",
            "318   vhigh     med  5more  more    med   med    acc\n",
            "319   vhigh     med  5more  more    med  high    acc\n",
            "320   vhigh     med  5more  more    big   low  unacc\n",
            "321   vhigh     med  5more  more    big   med    acc\n",
            "322   vhigh     med  5more  more    big  high    acc\n",
            "323   vhigh     low      2     2  small   low  unacc\n",
            "324   vhigh     low      2     2  small   med  unacc\n",
            "325   vhigh     low      2     2  small  high  unacc\n",
            "326   vhigh     low      2     2    med   low  unacc\n",
            "327   vhigh     low      2     2    med   med  unacc\n",
            "328   vhigh     low      2     2    med  high  unacc\n",
            "329   vhigh     low      2     2    big   low  unacc\n",
            "330   vhigh     low      2     2    big   med  unacc\n",
            "331   vhigh     low      2     2    big  high  unacc\n",
            "332   vhigh     low      2     4  small   low  unacc\n",
            "333   vhigh     low      2     4  small   med  unacc\n",
            "334   vhigh     low      2     4  small  high    acc\n",
            "335   vhigh     low      2     4    med   low  unacc\n",
            "336   vhigh     low      2     4    med   med  unacc\n",
            "337   vhigh     low      2     4    med  high    acc\n",
            "338   vhigh     low      2     4    big   low  unacc\n",
            "339   vhigh     low      2     4    big   med    acc\n",
            "340   vhigh     low      2     4    big  high    acc\n",
            "341   vhigh     low      2  more  small   low  unacc\n",
            "342   vhigh     low      2  more  small   med  unacc\n",
            "343   vhigh     low      2  more  small  high  unacc\n",
            "344   vhigh     low      2  more    med   low  unacc\n",
            "345   vhigh     low      2  more    med   med  unacc\n",
            "346   vhigh     low      2  more    med  high    acc\n",
            "347   vhigh     low      2  more    big   low  unacc\n",
            "348   vhigh     low      2  more    big   med    acc\n",
            "349   vhigh     low      2  more    big  high    acc\n",
            "350   vhigh     low      3     2  small   low  unacc\n",
            "351   vhigh     low      3     2  small   med  unacc\n",
            "352   vhigh     low      3     2  small  high  unacc\n",
            "353   vhigh     low      3     2    med   low  unacc\n",
            "354   vhigh     low      3     2    med   med  unacc\n",
            "355   vhigh     low      3     2    med  high  unacc\n",
            "356   vhigh     low      3     2    big   low  unacc\n",
            "357   vhigh     low      3     2    big   med  unacc\n",
            "358   vhigh     low      3     2    big  high  unacc\n",
            "359   vhigh     low      3     4  small   low  unacc\n",
            "360   vhigh     low      3     4  small   med  unacc\n",
            "361   vhigh     low      3     4  small  high    acc\n",
            "362   vhigh     low      3     4    med   low  unacc\n",
            "363   vhigh     low      3     4    med   med  unacc\n",
            "364   vhigh     low      3     4    med  high    acc\n",
            "365   vhigh     low      3     4    big   low  unacc\n",
            "366   vhigh     low      3     4    big   med    acc\n",
            "367   vhigh     low      3     4    big  high    acc\n",
            "368   vhigh     low      3  more  small   low  unacc\n",
            "369   vhigh     low      3  more  small   med  unacc\n",
            "370   vhigh     low      3  more  small  high    acc\n",
            "371   vhigh     low      3  more    med   low  unacc\n",
            "372   vhigh     low      3  more    med   med    acc\n",
            "373   vhigh     low      3  more    med  high    acc\n",
            "374   vhigh     low      3  more    big   low  unacc\n",
            "375   vhigh     low      3  more    big   med    acc\n",
            "376   vhigh     low      3  more    big  high    acc\n",
            "377   vhigh     low      4     2  small   low  unacc\n",
            "378   vhigh     low      4     2  small   med  unacc\n",
            "379   vhigh     low      4     2  small  high  unacc\n",
            "380   vhigh     low      4     2    med   low  unacc\n",
            "381   vhigh     low      4     2    med   med  unacc\n",
            "382   vhigh     low      4     2    med  high  unacc\n",
            "383   vhigh     low      4     2    big   low  unacc\n",
            "384   vhigh     low      4     2    big   med  unacc\n",
            "385   vhigh     low      4     2    big  high  unacc\n",
            "386   vhigh     low      4     4  small   low  unacc\n",
            "387   vhigh     low      4     4  small   med  unacc\n",
            "388   vhigh     low      4     4  small  high    acc\n",
            "389   vhigh     low      4     4    med   low  unacc\n",
            "390   vhigh     low      4     4    med   med    acc\n",
            "391   vhigh     low      4     4    med  high    acc\n",
            "392   vhigh     low      4     4    big   low  unacc\n",
            "393   vhigh     low      4     4    big   med    acc\n",
            "394   vhigh     low      4     4    big  high    acc\n",
            "395   vhigh     low      4  more  small   low  unacc\n",
            "396   vhigh     low      4  more  small   med  unacc\n",
            "397   vhigh     low      4  more  small  high    acc\n",
            "398   vhigh     low      4  more    med   low  unacc\n",
            "399   vhigh     low      4  more    med   med    acc\n",
            "400   vhigh     low      4  more    med  high    acc\n",
            "401   vhigh     low      4  more    big   low  unacc\n",
            "402   vhigh     low      4  more    big   med    acc\n",
            "403   vhigh     low      4  more    big  high    acc\n",
            "404   vhigh     low  5more     2  small   low  unacc\n",
            "405   vhigh     low  5more     2  small   med  unacc\n",
            "406   vhigh     low  5more     2  small  high  unacc\n",
            "407   vhigh     low  5more     2    med   low  unacc\n",
            "408   vhigh     low  5more     2    med   med  unacc\n",
            "409   vhigh     low  5more     2    med  high  unacc\n",
            "410   vhigh     low  5more     2    big   low  unacc\n",
            "411   vhigh     low  5more     2    big   med  unacc\n",
            "412   vhigh     low  5more     2    big  high  unacc\n",
            "413   vhigh     low  5more     4  small   low  unacc\n",
            "414   vhigh     low  5more     4  small   med  unacc\n",
            "415   vhigh     low  5more     4  small  high    acc\n",
            "416   vhigh     low  5more     4    med   low  unacc\n",
            "417   vhigh     low  5more     4    med   med    acc\n",
            "418   vhigh     low  5more     4    med  high    acc\n",
            "419   vhigh     low  5more     4    big   low  unacc\n",
            "420   vhigh     low  5more     4    big   med    acc\n",
            "421   vhigh     low  5more     4    big  high    acc\n",
            "422   vhigh     low  5more  more  small   low  unacc\n",
            "423   vhigh     low  5more  more  small   med  unacc\n",
            "424   vhigh     low  5more  more  small  high    acc\n",
            "425   vhigh     low  5more  more    med   low  unacc\n",
            "426   vhigh     low  5more  more    med   med    acc\n",
            "427   vhigh     low  5more  more    med  high    acc\n",
            "428   vhigh     low  5more  more    big   low  unacc\n",
            "429   vhigh     low  5more  more    big   med    acc\n",
            "430   vhigh     low  5more  more    big  high    acc\n",
            "431    high   vhigh      2     2  small   low  unacc\n",
            "432    high   vhigh      2     2  small   med  unacc\n",
            "433    high   vhigh      2     2  small  high  unacc\n",
            "434    high   vhigh      2     2    med   low  unacc\n",
            "435    high   vhigh      2     2    med   med  unacc\n",
            "436    high   vhigh      2     2    med  high  unacc\n",
            "437    high   vhigh      2     2    big   low  unacc\n",
            "438    high   vhigh      2     2    big   med  unacc\n",
            "439    high   vhigh      2     2    big  high  unacc\n",
            "440    high   vhigh      2     4  small   low  unacc\n",
            "441    high   vhigh      2     4  small   med  unacc\n",
            "442    high   vhigh      2     4  small  high  unacc\n",
            "443    high   vhigh      2     4    med   low  unacc\n",
            "444    high   vhigh      2     4    med   med  unacc\n",
            "445    high   vhigh      2     4    med  high  unacc\n",
            "446    high   vhigh      2     4    big   low  unacc\n",
            "447    high   vhigh      2     4    big   med  unacc\n",
            "448    high   vhigh      2     4    big  high  unacc\n",
            "449    high   vhigh      2  more  small   low  unacc\n",
            "450    high   vhigh      2  more  small   med  unacc\n",
            "451    high   vhigh      2  more  small  high  unacc\n",
            "452    high   vhigh      2  more    med   low  unacc\n",
            "453    high   vhigh      2  more    med   med  unacc\n",
            "454    high   vhigh      2  more    med  high  unacc\n",
            "455    high   vhigh      2  more    big   low  unacc\n",
            "456    high   vhigh      2  more    big   med  unacc\n",
            "457    high   vhigh      2  more    big  high  unacc\n",
            "458    high   vhigh      3     2  small   low  unacc\n",
            "459    high   vhigh      3     2  small   med  unacc\n",
            "460    high   vhigh      3     2  small  high  unacc\n",
            "461    high   vhigh      3     2    med   low  unacc\n",
            "462    high   vhigh      3     2    med   med  unacc\n",
            "463    high   vhigh      3     2    med  high  unacc\n",
            "464    high   vhigh      3     2    big   low  unacc\n",
            "465    high   vhigh      3     2    big   med  unacc\n",
            "466    high   vhigh      3     2    big  high  unacc\n",
            "467    high   vhigh      3     4  small   low  unacc\n",
            "468    high   vhigh      3     4  small   med  unacc\n",
            "469    high   vhigh      3     4  small  high  unacc\n",
            "470    high   vhigh      3     4    med   low  unacc\n",
            "471    high   vhigh      3     4    med   med  unacc\n",
            "472    high   vhigh      3     4    med  high  unacc\n",
            "473    high   vhigh      3     4    big   low  unacc\n",
            "474    high   vhigh      3     4    big   med  unacc\n",
            "475    high   vhigh      3     4    big  high  unacc\n",
            "476    high   vhigh      3  more  small   low  unacc\n",
            "477    high   vhigh      3  more  small   med  unacc\n",
            "478    high   vhigh      3  more  small  high  unacc\n",
            "479    high   vhigh      3  more    med   low  unacc\n",
            "480    high   vhigh      3  more    med   med  unacc\n",
            "481    high   vhigh      3  more    med  high  unacc\n",
            "482    high   vhigh      3  more    big   low  unacc\n",
            "483    high   vhigh      3  more    big   med  unacc\n",
            "484    high   vhigh      3  more    big  high  unacc\n",
            "485    high   vhigh      4     2  small   low  unacc\n",
            "486    high   vhigh      4     2  small   med  unacc\n",
            "487    high   vhigh      4     2  small  high  unacc\n",
            "488    high   vhigh      4     2    med   low  unacc\n",
            "489    high   vhigh      4     2    med   med  unacc\n",
            "490    high   vhigh      4     2    med  high  unacc\n",
            "491    high   vhigh      4     2    big   low  unacc\n",
            "492    high   vhigh      4     2    big   med  unacc\n",
            "493    high   vhigh      4     2    big  high  unacc\n",
            "494    high   vhigh      4     4  small   low  unacc\n",
            "495    high   vhigh      4     4  small   med  unacc\n",
            "496    high   vhigh      4     4  small  high  unacc\n",
            "497    high   vhigh      4     4    med   low  unacc\n",
            "498    high   vhigh      4     4    med   med  unacc\n",
            "499    high   vhigh      4     4    med  high  unacc\n",
            "500    high   vhigh      4     4    big   low  unacc\n",
            "501    high   vhigh      4     4    big   med  unacc\n",
            "502    high   vhigh      4     4    big  high  unacc\n",
            "503    high   vhigh      4  more  small   low  unacc\n",
            "504    high   vhigh      4  more  small   med  unacc\n",
            "505    high   vhigh      4  more  small  high  unacc\n",
            "506    high   vhigh      4  more    med   low  unacc\n",
            "507    high   vhigh      4  more    med   med  unacc\n",
            "508    high   vhigh      4  more    med  high  unacc\n",
            "509    high   vhigh      4  more    big   low  unacc\n",
            "510    high   vhigh      4  more    big   med  unacc\n",
            "511    high   vhigh      4  more    big  high  unacc\n",
            "512    high   vhigh  5more     2  small   low  unacc\n",
            "513    high   vhigh  5more     2  small   med  unacc\n",
            "514    high   vhigh  5more     2  small  high  unacc\n",
            "515    high   vhigh  5more     2    med   low  unacc\n",
            "516    high   vhigh  5more     2    med   med  unacc\n",
            "517    high   vhigh  5more     2    med  high  unacc\n",
            "518    high   vhigh  5more     2    big   low  unacc\n",
            "519    high   vhigh  5more     2    big   med  unacc\n",
            "520    high   vhigh  5more     2    big  high  unacc\n",
            "521    high   vhigh  5more     4  small   low  unacc\n",
            "522    high   vhigh  5more     4  small   med  unacc\n",
            "523    high   vhigh  5more     4  small  high  unacc\n",
            "524    high   vhigh  5more     4    med   low  unacc\n",
            "525    high   vhigh  5more     4    med   med  unacc\n",
            "526    high   vhigh  5more     4    med  high  unacc\n",
            "527    high   vhigh  5more     4    big   low  unacc\n",
            "528    high   vhigh  5more     4    big   med  unacc\n",
            "529    high   vhigh  5more     4    big  high  unacc\n",
            "530    high   vhigh  5more  more  small   low  unacc\n",
            "531    high   vhigh  5more  more  small   med  unacc\n",
            "532    high   vhigh  5more  more  small  high  unacc\n",
            "533    high   vhigh  5more  more    med   low  unacc\n",
            "534    high   vhigh  5more  more    med   med  unacc\n",
            "535    high   vhigh  5more  more    med  high  unacc\n",
            "536    high   vhigh  5more  more    big   low  unacc\n",
            "537    high   vhigh  5more  more    big   med  unacc\n",
            "538    high   vhigh  5more  more    big  high  unacc\n",
            "539    high    high      2     2  small   low  unacc\n",
            "540    high    high      2     2  small   med  unacc\n",
            "541    high    high      2     2  small  high  unacc\n",
            "542    high    high      2     2    med   low  unacc\n",
            "543    high    high      2     2    med   med  unacc\n",
            "544    high    high      2     2    med  high  unacc\n",
            "545    high    high      2     2    big   low  unacc\n",
            "546    high    high      2     2    big   med  unacc\n",
            "547    high    high      2     2    big  high  unacc\n",
            "548    high    high      2     4  small   low  unacc\n",
            "549    high    high      2     4  small   med  unacc\n",
            "550    high    high      2     4  small  high    acc\n",
            "551    high    high      2     4    med   low  unacc\n",
            "552    high    high      2     4    med   med  unacc\n",
            "553    high    high      2     4    med  high    acc\n",
            "554    high    high      2     4    big   low  unacc\n",
            "555    high    high      2     4    big   med    acc\n",
            "556    high    high      2     4    big  high    acc\n",
            "557    high    high      2  more  small   low  unacc\n",
            "558    high    high      2  more  small   med  unacc\n",
            "559    high    high      2  more  small  high  unacc\n",
            "560    high    high      2  more    med   low  unacc\n",
            "561    high    high      2  more    med   med  unacc\n",
            "562    high    high      2  more    med  high    acc\n",
            "563    high    high      2  more    big   low  unacc\n",
            "564    high    high      2  more    big   med    acc\n",
            "565    high    high      2  more    big  high    acc\n",
            "566    high    high      3     2  small   low  unacc\n",
            "567    high    high      3     2  small   med  unacc\n",
            "568    high    high      3     2  small  high  unacc\n",
            "569    high    high      3     2    med   low  unacc\n",
            "570    high    high      3     2    med   med  unacc\n",
            "571    high    high      3     2    med  high  unacc\n",
            "572    high    high      3     2    big   low  unacc\n",
            "573    high    high      3     2    big   med  unacc\n",
            "574    high    high      3     2    big  high  unacc\n",
            "575    high    high      3     4  small   low  unacc\n",
            "576    high    high      3     4  small   med  unacc\n",
            "577    high    high      3     4  small  high    acc\n",
            "578    high    high      3     4    med   low  unacc\n",
            "579    high    high      3     4    med   med  unacc\n",
            "580    high    high      3     4    med  high    acc\n",
            "581    high    high      3     4    big   low  unacc\n",
            "582    high    high      3     4    big   med    acc\n",
            "583    high    high      3     4    big  high    acc\n",
            "584    high    high      3  more  small   low  unacc\n",
            "585    high    high      3  more  small   med  unacc\n",
            "586    high    high      3  more  small  high    acc\n",
            "587    high    high      3  more    med   low  unacc\n",
            "588    high    high      3  more    med   med    acc\n",
            "589    high    high      3  more    med  high    acc\n",
            "590    high    high      3  more    big   low  unacc\n",
            "591    high    high      3  more    big   med    acc\n",
            "592    high    high      3  more    big  high    acc\n",
            "593    high    high      4     2  small   low  unacc\n",
            "594    high    high      4     2  small   med  unacc\n",
            "595    high    high      4     2  small  high  unacc\n",
            "596    high    high      4     2    med   low  unacc\n",
            "597    high    high      4     2    med   med  unacc\n",
            "598    high    high      4     2    med  high  unacc\n",
            "599    high    high      4     2    big   low  unacc\n",
            "600    high    high      4     2    big   med  unacc\n",
            "601    high    high      4     2    big  high  unacc\n",
            "602    high    high      4     4  small   low  unacc\n",
            "603    high    high      4     4  small   med  unacc\n",
            "604    high    high      4     4  small  high    acc\n",
            "605    high    high      4     4    med   low  unacc\n",
            "606    high    high      4     4    med   med    acc\n",
            "607    high    high      4     4    med  high    acc\n",
            "608    high    high      4     4    big   low  unacc\n",
            "609    high    high      4     4    big   med    acc\n",
            "610    high    high      4     4    big  high    acc\n",
            "611    high    high      4  more  small   low  unacc\n",
            "612    high    high      4  more  small   med  unacc\n",
            "613    high    high      4  more  small  high    acc\n",
            "614    high    high      4  more    med   low  unacc\n",
            "615    high    high      4  more    med   med    acc\n",
            "616    high    high      4  more    med  high    acc\n",
            "617    high    high      4  more    big   low  unacc\n",
            "618    high    high      4  more    big   med    acc\n",
            "619    high    high      4  more    big  high    acc\n",
            "620    high    high  5more     2  small   low  unacc\n",
            "621    high    high  5more     2  small   med  unacc\n",
            "622    high    high  5more     2  small  high  unacc\n",
            "623    high    high  5more     2    med   low  unacc\n",
            "624    high    high  5more     2    med   med  unacc\n",
            "625    high    high  5more     2    med  high  unacc\n",
            "626    high    high  5more     2    big   low  unacc\n",
            "627    high    high  5more     2    big   med  unacc\n",
            "628    high    high  5more     2    big  high  unacc\n",
            "629    high    high  5more     4  small   low  unacc\n",
            "630    high    high  5more     4  small   med  unacc\n",
            "631    high    high  5more     4  small  high    acc\n",
            "632    high    high  5more     4    med   low  unacc\n",
            "633    high    high  5more     4    med   med    acc\n",
            "634    high    high  5more     4    med  high    acc\n",
            "635    high    high  5more     4    big   low  unacc\n",
            "636    high    high  5more     4    big   med    acc\n",
            "637    high    high  5more     4    big  high    acc\n",
            "638    high    high  5more  more  small   low  unacc\n",
            "639    high    high  5more  more  small   med  unacc\n",
            "640    high    high  5more  more  small  high    acc\n",
            "641    high    high  5more  more    med   low  unacc\n",
            "642    high    high  5more  more    med   med    acc\n",
            "643    high    high  5more  more    med  high    acc\n",
            "644    high    high  5more  more    big   low  unacc\n",
            "645    high    high  5more  more    big   med    acc\n",
            "646    high    high  5more  more    big  high    acc\n",
            "647    high     med      2     2  small   low  unacc\n",
            "648    high     med      2     2  small   med  unacc\n",
            "649    high     med      2     2  small  high  unacc\n",
            "650    high     med      2     2    med   low  unacc\n",
            "651    high     med      2     2    med   med  unacc\n",
            "652    high     med      2     2    med  high  unacc\n",
            "653    high     med      2     2    big   low  unacc\n",
            "654    high     med      2     2    big   med  unacc\n",
            "655    high     med      2     2    big  high  unacc\n",
            "656    high     med      2     4  small   low  unacc\n",
            "657    high     med      2     4  small   med  unacc\n",
            "658    high     med      2     4  small  high    acc\n",
            "659    high     med      2     4    med   low  unacc\n",
            "660    high     med      2     4    med   med  unacc\n",
            "661    high     med      2     4    med  high    acc\n",
            "662    high     med      2     4    big   low  unacc\n",
            "663    high     med      2     4    big   med    acc\n",
            "664    high     med      2     4    big  high    acc\n",
            "665    high     med      2  more  small   low  unacc\n",
            "666    high     med      2  more  small   med  unacc\n",
            "667    high     med      2  more  small  high  unacc\n",
            "668    high     med      2  more    med   low  unacc\n",
            "669    high     med      2  more    med   med  unacc\n",
            "670    high     med      2  more    med  high    acc\n",
            "671    high     med      2  more    big   low  unacc\n",
            "672    high     med      2  more    big   med    acc\n",
            "673    high     med      2  more    big  high    acc\n",
            "674    high     med      3     2  small   low  unacc\n",
            "675    high     med      3     2  small   med  unacc\n",
            "676    high     med      3     2  small  high  unacc\n",
            "677    high     med      3     2    med   low  unacc\n",
            "678    high     med      3     2    med   med  unacc\n",
            "679    high     med      3     2    med  high  unacc\n",
            "680    high     med      3     2    big   low  unacc\n",
            "681    high     med      3     2    big   med  unacc\n",
            "682    high     med      3     2    big  high  unacc\n",
            "683    high     med      3     4  small   low  unacc\n",
            "684    high     med      3     4  small   med  unacc\n",
            "685    high     med      3     4  small  high    acc\n",
            "686    high     med      3     4    med   low  unacc\n",
            "687    high     med      3     4    med   med  unacc\n",
            "688    high     med      3     4    med  high    acc\n",
            "689    high     med      3     4    big   low  unacc\n",
            "690    high     med      3     4    big   med    acc\n",
            "691    high     med      3     4    big  high    acc\n",
            "692    high     med      3  more  small   low  unacc\n",
            "693    high     med      3  more  small   med  unacc\n",
            "694    high     med      3  more  small  high    acc\n",
            "695    high     med      3  more    med   low  unacc\n",
            "696    high     med      3  more    med   med    acc\n",
            "697    high     med      3  more    med  high    acc\n",
            "698    high     med      3  more    big   low  unacc\n",
            "699    high     med      3  more    big   med    acc\n",
            "700    high     med      3  more    big  high    acc\n",
            "701    high     med      4     2  small   low  unacc\n",
            "702    high     med      4     2  small   med  unacc\n",
            "703    high     med      4     2  small  high  unacc\n",
            "704    high     med      4     2    med   low  unacc\n",
            "705    high     med      4     2    med   med  unacc\n",
            "706    high     med      4     2    med  high  unacc\n",
            "707    high     med      4     2    big   low  unacc\n",
            "708    high     med      4     2    big   med  unacc\n",
            "709    high     med      4     2    big  high  unacc\n",
            "710    high     med      4     4  small   low  unacc\n",
            "711    high     med      4     4  small   med  unacc\n",
            "712    high     med      4     4  small  high    acc\n",
            "713    high     med      4     4    med   low  unacc\n",
            "714    high     med      4     4    med   med    acc\n",
            "715    high     med      4     4    med  high    acc\n",
            "716    high     med      4     4    big   low  unacc\n",
            "717    high     med      4     4    big   med    acc\n",
            "718    high     med      4     4    big  high    acc\n",
            "719    high     med      4  more  small   low  unacc\n",
            "720    high     med      4  more  small   med  unacc\n",
            "721    high     med      4  more  small  high    acc\n",
            "722    high     med      4  more    med   low  unacc\n",
            "723    high     med      4  more    med   med    acc\n",
            "724    high     med      4  more    med  high    acc\n",
            "725    high     med      4  more    big   low  unacc\n",
            "726    high     med      4  more    big   med    acc\n",
            "727    high     med      4  more    big  high    acc\n",
            "728    high     med  5more     2  small   low  unacc\n",
            "729    high     med  5more     2  small   med  unacc\n",
            "730    high     med  5more     2  small  high  unacc\n",
            "731    high     med  5more     2    med   low  unacc\n",
            "732    high     med  5more     2    med   med  unacc\n",
            "733    high     med  5more     2    med  high  unacc\n",
            "734    high     med  5more     2    big   low  unacc\n",
            "735    high     med  5more     2    big   med  unacc\n",
            "736    high     med  5more     2    big  high  unacc\n",
            "737    high     med  5more     4  small   low  unacc\n",
            "738    high     med  5more     4  small   med  unacc\n",
            "739    high     med  5more     4  small  high    acc\n",
            "740    high     med  5more     4    med   low  unacc\n",
            "741    high     med  5more     4    med   med    acc\n",
            "742    high     med  5more     4    med  high    acc\n",
            "743    high     med  5more     4    big   low  unacc\n",
            "744    high     med  5more     4    big   med    acc\n",
            "745    high     med  5more     4    big  high    acc\n",
            "746    high     med  5more  more  small   low  unacc\n",
            "747    high     med  5more  more  small   med  unacc\n",
            "748    high     med  5more  more  small  high    acc\n",
            "749    high     med  5more  more    med   low  unacc\n",
            "750    high     med  5more  more    med   med    acc\n",
            "751    high     med  5more  more    med  high    acc\n",
            "752    high     med  5more  more    big   low  unacc\n",
            "753    high     med  5more  more    big   med    acc\n",
            "754    high     med  5more  more    big  high    acc\n",
            "755    high     low      2     2  small   low  unacc\n",
            "756    high     low      2     2  small   med  unacc\n",
            "757    high     low      2     2  small  high  unacc\n",
            "758    high     low      2     2    med   low  unacc\n",
            "759    high     low      2     2    med   med  unacc\n",
            "760    high     low      2     2    med  high  unacc\n",
            "761    high     low      2     2    big   low  unacc\n",
            "762    high     low      2     2    big   med  unacc\n",
            "763    high     low      2     2    big  high  unacc\n",
            "764    high     low      2     4  small   low  unacc\n",
            "765    high     low      2     4  small   med  unacc\n",
            "766    high     low      2     4  small  high    acc\n",
            "767    high     low      2     4    med   low  unacc\n",
            "768    high     low      2     4    med   med  unacc\n",
            "769    high     low      2     4    med  high    acc\n",
            "770    high     low      2     4    big   low  unacc\n",
            "771    high     low      2     4    big   med    acc\n",
            "772    high     low      2     4    big  high    acc\n",
            "773    high     low      2  more  small   low  unacc\n",
            "774    high     low      2  more  small   med  unacc\n",
            "775    high     low      2  more  small  high  unacc\n",
            "776    high     low      2  more    med   low  unacc\n",
            "777    high     low      2  more    med   med  unacc\n",
            "778    high     low      2  more    med  high    acc\n",
            "779    high     low      2  more    big   low  unacc\n",
            "780    high     low      2  more    big   med    acc\n",
            "781    high     low      2  more    big  high    acc\n",
            "782    high     low      3     2  small   low  unacc\n",
            "783    high     low      3     2  small   med  unacc\n",
            "784    high     low      3     2  small  high  unacc\n",
            "785    high     low      3     2    med   low  unacc\n",
            "786    high     low      3     2    med   med  unacc\n",
            "787    high     low      3     2    med  high  unacc\n",
            "788    high     low      3     2    big   low  unacc\n",
            "789    high     low      3     2    big   med  unacc\n",
            "790    high     low      3     2    big  high  unacc\n",
            "791    high     low      3     4  small   low  unacc\n",
            "792    high     low      3     4  small   med  unacc\n",
            "793    high     low      3     4  small  high    acc\n",
            "794    high     low      3     4    med   low  unacc\n",
            "795    high     low      3     4    med   med  unacc\n",
            "796    high     low      3     4    med  high    acc\n",
            "797    high     low      3     4    big   low  unacc\n",
            "798    high     low      3     4    big   med    acc\n",
            "799    high     low      3     4    big  high    acc\n",
            "800    high     low      3  more  small   low  unacc\n",
            "801    high     low      3  more  small   med  unacc\n",
            "802    high     low      3  more  small  high    acc\n",
            "803    high     low      3  more    med   low  unacc\n",
            "804    high     low      3  more    med   med    acc\n",
            "805    high     low      3  more    med  high    acc\n",
            "806    high     low      3  more    big   low  unacc\n",
            "807    high     low      3  more    big   med    acc\n",
            "808    high     low      3  more    big  high    acc\n",
            "809    high     low      4     2  small   low  unacc\n",
            "810    high     low      4     2  small   med  unacc\n",
            "811    high     low      4     2  small  high  unacc\n",
            "812    high     low      4     2    med   low  unacc\n",
            "813    high     low      4     2    med   med  unacc\n",
            "814    high     low      4     2    med  high  unacc\n",
            "815    high     low      4     2    big   low  unacc\n",
            "816    high     low      4     2    big   med  unacc\n",
            "817    high     low      4     2    big  high  unacc\n",
            "818    high     low      4     4  small   low  unacc\n",
            "819    high     low      4     4  small   med  unacc\n",
            "820    high     low      4     4  small  high    acc\n",
            "821    high     low      4     4    med   low  unacc\n",
            "822    high     low      4     4    med   med    acc\n",
            "823    high     low      4     4    med  high    acc\n",
            "824    high     low      4     4    big   low  unacc\n",
            "825    high     low      4     4    big   med    acc\n",
            "826    high     low      4     4    big  high    acc\n",
            "827    high     low      4  more  small   low  unacc\n",
            "828    high     low      4  more  small   med  unacc\n",
            "829    high     low      4  more  small  high    acc\n",
            "830    high     low      4  more    med   low  unacc\n",
            "831    high     low      4  more    med   med    acc\n",
            "832    high     low      4  more    med  high    acc\n",
            "833    high     low      4  more    big   low  unacc\n",
            "834    high     low      4  more    big   med    acc\n",
            "835    high     low      4  more    big  high    acc\n",
            "836    high     low  5more     2  small   low  unacc\n",
            "837    high     low  5more     2  small   med  unacc\n",
            "838    high     low  5more     2  small  high  unacc\n",
            "839    high     low  5more     2    med   low  unacc\n",
            "840    high     low  5more     2    med   med  unacc\n",
            "841    high     low  5more     2    med  high  unacc\n",
            "842    high     low  5more     2    big   low  unacc\n",
            "843    high     low  5more     2    big   med  unacc\n",
            "844    high     low  5more     2    big  high  unacc\n",
            "845    high     low  5more     4  small   low  unacc\n",
            "846    high     low  5more     4  small   med  unacc\n",
            "847    high     low  5more     4  small  high    acc\n",
            "848    high     low  5more     4    med   low  unacc\n",
            "849    high     low  5more     4    med   med    acc\n",
            "850    high     low  5more     4    med  high    acc\n",
            "851    high     low  5more     4    big   low  unacc\n",
            "852    high     low  5more     4    big   med    acc\n",
            "853    high     low  5more     4    big  high    acc\n",
            "854    high     low  5more  more  small   low  unacc\n",
            "855    high     low  5more  more  small   med  unacc\n",
            "856    high     low  5more  more  small  high    acc\n",
            "857    high     low  5more  more    med   low  unacc\n",
            "858    high     low  5more  more    med   med    acc\n",
            "859    high     low  5more  more    med  high    acc\n",
            "860    high     low  5more  more    big   low  unacc\n",
            "861    high     low  5more  more    big   med    acc\n",
            "862    high     low  5more  more    big  high    acc\n",
            "863     med   vhigh      2     2  small   low  unacc\n",
            "864     med   vhigh      2     2  small   med  unacc\n",
            "865     med   vhigh      2     2  small  high  unacc\n",
            "866     med   vhigh      2     2    med   low  unacc\n",
            "867     med   vhigh      2     2    med   med  unacc\n",
            "868     med   vhigh      2     2    med  high  unacc\n",
            "869     med   vhigh      2     2    big   low  unacc\n",
            "870     med   vhigh      2     2    big   med  unacc\n",
            "871     med   vhigh      2     2    big  high  unacc\n",
            "872     med   vhigh      2     4  small   low  unacc\n",
            "873     med   vhigh      2     4  small   med  unacc\n",
            "874     med   vhigh      2     4  small  high    acc\n",
            "875     med   vhigh      2     4    med   low  unacc\n",
            "876     med   vhigh      2     4    med   med  unacc\n",
            "877     med   vhigh      2     4    med  high    acc\n",
            "878     med   vhigh      2     4    big   low  unacc\n",
            "879     med   vhigh      2     4    big   med    acc\n",
            "880     med   vhigh      2     4    big  high    acc\n",
            "881     med   vhigh      2  more  small   low  unacc\n",
            "882     med   vhigh      2  more  small   med  unacc\n",
            "883     med   vhigh      2  more  small  high  unacc\n",
            "884     med   vhigh      2  more    med   low  unacc\n",
            "885     med   vhigh      2  more    med   med  unacc\n",
            "886     med   vhigh      2  more    med  high    acc\n",
            "887     med   vhigh      2  more    big   low  unacc\n",
            "888     med   vhigh      2  more    big   med    acc\n",
            "889     med   vhigh      2  more    big  high    acc\n",
            "890     med   vhigh      3     2  small   low  unacc\n",
            "891     med   vhigh      3     2  small   med  unacc\n",
            "892     med   vhigh      3     2  small  high  unacc\n",
            "893     med   vhigh      3     2    med   low  unacc\n",
            "894     med   vhigh      3     2    med   med  unacc\n",
            "895     med   vhigh      3     2    med  high  unacc\n",
            "896     med   vhigh      3     2    big   low  unacc\n",
            "897     med   vhigh      3     2    big   med  unacc\n",
            "898     med   vhigh      3     2    big  high  unacc\n",
            "899     med   vhigh      3     4  small   low  unacc\n",
            "900     med   vhigh      3     4  small   med  unacc\n",
            "901     med   vhigh      3     4  small  high    acc\n",
            "902     med   vhigh      3     4    med   low  unacc\n",
            "903     med   vhigh      3     4    med   med  unacc\n",
            "904     med   vhigh      3     4    med  high    acc\n",
            "905     med   vhigh      3     4    big   low  unacc\n",
            "906     med   vhigh      3     4    big   med    acc\n",
            "907     med   vhigh      3     4    big  high    acc\n",
            "908     med   vhigh      3  more  small   low  unacc\n",
            "909     med   vhigh      3  more  small   med  unacc\n",
            "910     med   vhigh      3  more  small  high    acc\n",
            "911     med   vhigh      3  more    med   low  unacc\n",
            "912     med   vhigh      3  more    med   med    acc\n",
            "913     med   vhigh      3  more    med  high    acc\n",
            "914     med   vhigh      3  more    big   low  unacc\n",
            "915     med   vhigh      3  more    big   med    acc\n",
            "916     med   vhigh      3  more    big  high    acc\n",
            "917     med   vhigh      4     2  small   low  unacc\n",
            "918     med   vhigh      4     2  small   med  unacc\n",
            "919     med   vhigh      4     2  small  high  unacc\n",
            "920     med   vhigh      4     2    med   low  unacc\n",
            "921     med   vhigh      4     2    med   med  unacc\n",
            "922     med   vhigh      4     2    med  high  unacc\n",
            "923     med   vhigh      4     2    big   low  unacc\n",
            "924     med   vhigh      4     2    big   med  unacc\n",
            "925     med   vhigh      4     2    big  high  unacc\n",
            "926     med   vhigh      4     4  small   low  unacc\n",
            "927     med   vhigh      4     4  small   med  unacc\n",
            "928     med   vhigh      4     4  small  high    acc\n",
            "929     med   vhigh      4     4    med   low  unacc\n",
            "930     med   vhigh      4     4    med   med    acc\n",
            "931     med   vhigh      4     4    med  high    acc\n",
            "932     med   vhigh      4     4    big   low  unacc\n",
            "933     med   vhigh      4     4    big   med    acc\n",
            "934     med   vhigh      4     4    big  high    acc\n",
            "935     med   vhigh      4  more  small   low  unacc\n",
            "936     med   vhigh      4  more  small   med  unacc\n",
            "937     med   vhigh      4  more  small  high    acc\n",
            "938     med   vhigh      4  more    med   low  unacc\n",
            "939     med   vhigh      4  more    med   med    acc\n",
            "940     med   vhigh      4  more    med  high    acc\n",
            "941     med   vhigh      4  more    big   low  unacc\n",
            "942     med   vhigh      4  more    big   med    acc\n",
            "943     med   vhigh      4  more    big  high    acc\n",
            "944     med   vhigh  5more     2  small   low  unacc\n",
            "945     med   vhigh  5more     2  small   med  unacc\n",
            "946     med   vhigh  5more     2  small  high  unacc\n",
            "947     med   vhigh  5more     2    med   low  unacc\n",
            "948     med   vhigh  5more     2    med   med  unacc\n",
            "949     med   vhigh  5more     2    med  high  unacc\n",
            "950     med   vhigh  5more     2    big   low  unacc\n",
            "951     med   vhigh  5more     2    big   med  unacc\n",
            "952     med   vhigh  5more     2    big  high  unacc\n",
            "953     med   vhigh  5more     4  small   low  unacc\n",
            "954     med   vhigh  5more     4  small   med  unacc\n",
            "955     med   vhigh  5more     4  small  high    acc\n",
            "956     med   vhigh  5more     4    med   low  unacc\n",
            "957     med   vhigh  5more     4    med   med    acc\n",
            "958     med   vhigh  5more     4    med  high    acc\n",
            "959     med   vhigh  5more     4    big   low  unacc\n",
            "960     med   vhigh  5more     4    big   med    acc\n",
            "961     med   vhigh  5more     4    big  high    acc\n",
            "962     med   vhigh  5more  more  small   low  unacc\n",
            "963     med   vhigh  5more  more  small   med  unacc\n",
            "964     med   vhigh  5more  more  small  high    acc\n",
            "965     med   vhigh  5more  more    med   low  unacc\n",
            "966     med   vhigh  5more  more    med   med    acc\n",
            "967     med   vhigh  5more  more    med  high    acc\n",
            "968     med   vhigh  5more  more    big   low  unacc\n",
            "969     med   vhigh  5more  more    big   med    acc\n",
            "970     med   vhigh  5more  more    big  high    acc\n",
            "971     med    high      2     2  small   low  unacc\n",
            "972     med    high      2     2  small   med  unacc\n",
            "973     med    high      2     2  small  high  unacc\n",
            "974     med    high      2     2    med   low  unacc\n",
            "975     med    high      2     2    med   med  unacc\n",
            "976     med    high      2     2    med  high  unacc\n",
            "977     med    high      2     2    big   low  unacc\n",
            "978     med    high      2     2    big   med  unacc\n",
            "979     med    high      2     2    big  high  unacc\n",
            "980     med    high      2     4  small   low  unacc\n",
            "981     med    high      2     4  small   med  unacc\n",
            "982     med    high      2     4  small  high    acc\n",
            "983     med    high      2     4    med   low  unacc\n",
            "984     med    high      2     4    med   med  unacc\n",
            "985     med    high      2     4    med  high    acc\n",
            "986     med    high      2     4    big   low  unacc\n",
            "987     med    high      2     4    big   med    acc\n",
            "988     med    high      2     4    big  high    acc\n",
            "989     med    high      2  more  small   low  unacc\n",
            "990     med    high      2  more  small   med  unacc\n",
            "991     med    high      2  more  small  high  unacc\n",
            "992     med    high      2  more    med   low  unacc\n",
            "993     med    high      2  more    med   med  unacc\n",
            "994     med    high      2  more    med  high    acc\n",
            "995     med    high      2  more    big   low  unacc\n",
            "996     med    high      2  more    big   med    acc\n",
            "997     med    high      2  more    big  high    acc\n",
            "998     med    high      3     2  small   low  unacc\n",
            "999     med    high      3     2  small   med  unacc\n",
            "1000    med    high      3     2  small  high  unacc\n",
            "1001    med    high      3     2    med   low  unacc\n",
            "1002    med    high      3     2    med   med  unacc\n",
            "1003    med    high      3     2    med  high  unacc\n",
            "1004    med    high      3     2    big   low  unacc\n",
            "1005    med    high      3     2    big   med  unacc\n",
            "1006    med    high      3     2    big  high  unacc\n",
            "1007    med    high      3     4  small   low  unacc\n",
            "1008    med    high      3     4  small   med  unacc\n",
            "1009    med    high      3     4  small  high    acc\n",
            "1010    med    high      3     4    med   low  unacc\n",
            "1011    med    high      3     4    med   med  unacc\n",
            "1012    med    high      3     4    med  high    acc\n",
            "1013    med    high      3     4    big   low  unacc\n",
            "1014    med    high      3     4    big   med    acc\n",
            "1015    med    high      3     4    big  high    acc\n",
            "1016    med    high      3  more  small   low  unacc\n",
            "1017    med    high      3  more  small   med  unacc\n",
            "1018    med    high      3  more  small  high    acc\n",
            "1019    med    high      3  more    med   low  unacc\n",
            "1020    med    high      3  more    med   med    acc\n",
            "1021    med    high      3  more    med  high    acc\n",
            "1022    med    high      3  more    big   low  unacc\n",
            "1023    med    high      3  more    big   med    acc\n",
            "1024    med    high      3  more    big  high    acc\n",
            "1025    med    high      4     2  small   low  unacc\n",
            "1026    med    high      4     2  small   med  unacc\n",
            "1027    med    high      4     2  small  high  unacc\n",
            "1028    med    high      4     2    med   low  unacc\n",
            "1029    med    high      4     2    med   med  unacc\n",
            "1030    med    high      4     2    med  high  unacc\n",
            "1031    med    high      4     2    big   low  unacc\n",
            "1032    med    high      4     2    big   med  unacc\n",
            "1033    med    high      4     2    big  high  unacc\n",
            "1034    med    high      4     4  small   low  unacc\n",
            "1035    med    high      4     4  small   med  unacc\n",
            "1036    med    high      4     4  small  high    acc\n",
            "1037    med    high      4     4    med   low  unacc\n",
            "1038    med    high      4     4    med   med    acc\n",
            "1039    med    high      4     4    med  high    acc\n",
            "1040    med    high      4     4    big   low  unacc\n",
            "1041    med    high      4     4    big   med    acc\n",
            "1042    med    high      4     4    big  high    acc\n",
            "1043    med    high      4  more  small   low  unacc\n",
            "1044    med    high      4  more  small   med  unacc\n",
            "1045    med    high      4  more  small  high    acc\n",
            "1046    med    high      4  more    med   low  unacc\n",
            "1047    med    high      4  more    med   med    acc\n",
            "1048    med    high      4  more    med  high    acc\n",
            "1049    med    high      4  more    big   low  unacc\n",
            "1050    med    high      4  more    big   med    acc\n",
            "1051    med    high      4  more    big  high    acc\n",
            "1052    med    high  5more     2  small   low  unacc\n",
            "1053    med    high  5more     2  small   med  unacc\n",
            "1054    med    high  5more     2  small  high  unacc\n",
            "1055    med    high  5more     2    med   low  unacc\n",
            "1056    med    high  5more     2    med   med  unacc\n",
            "1057    med    high  5more     2    med  high  unacc\n",
            "1058    med    high  5more     2    big   low  unacc\n",
            "1059    med    high  5more     2    big   med  unacc\n",
            "1060    med    high  5more     2    big  high  unacc\n",
            "1061    med    high  5more     4  small   low  unacc\n",
            "1062    med    high  5more     4  small   med  unacc\n",
            "1063    med    high  5more     4  small  high    acc\n",
            "1064    med    high  5more     4    med   low  unacc\n",
            "1065    med    high  5more     4    med   med    acc\n",
            "1066    med    high  5more     4    med  high    acc\n",
            "1067    med    high  5more     4    big   low  unacc\n",
            "1068    med    high  5more     4    big   med    acc\n",
            "1069    med    high  5more     4    big  high    acc\n",
            "1070    med    high  5more  more  small   low  unacc\n",
            "1071    med    high  5more  more  small   med  unacc\n",
            "1072    med    high  5more  more  small  high    acc\n",
            "1073    med    high  5more  more    med   low  unacc\n",
            "1074    med    high  5more  more    med   med    acc\n",
            "1075    med    high  5more  more    med  high    acc\n",
            "1076    med    high  5more  more    big   low  unacc\n",
            "1077    med    high  5more  more    big   med    acc\n",
            "1078    med    high  5more  more    big  high    acc\n",
            "1079    med     med      2     2  small   low  unacc\n",
            "1080    med     med      2     2  small   med  unacc\n",
            "1081    med     med      2     2  small  high  unacc\n",
            "1082    med     med      2     2    med   low  unacc\n",
            "1083    med     med      2     2    med   med  unacc\n",
            "1084    med     med      2     2    med  high  unacc\n",
            "1085    med     med      2     2    big   low  unacc\n",
            "1086    med     med      2     2    big   med  unacc\n",
            "1087    med     med      2     2    big  high  unacc\n",
            "1088    med     med      2     4  small   low  unacc\n",
            "1089    med     med      2     4  small   med    acc\n",
            "1090    med     med      2     4  small  high    acc\n",
            "1091    med     med      2     4    med   low  unacc\n",
            "1092    med     med      2     4    med   med    acc\n",
            "1093    med     med      2     4    med  high    acc\n",
            "1094    med     med      2     4    big   low  unacc\n",
            "1095    med     med      2     4    big   med    acc\n",
            "1096    med     med      2     4    big  high  vgood\n",
            "1097    med     med      2  more  small   low  unacc\n",
            "1098    med     med      2  more  small   med  unacc\n",
            "1099    med     med      2  more  small  high  unacc\n",
            "1100    med     med      2  more    med   low  unacc\n",
            "1101    med     med      2  more    med   med    acc\n",
            "1102    med     med      2  more    med  high    acc\n",
            "1103    med     med      2  more    big   low  unacc\n",
            "1104    med     med      2  more    big   med    acc\n",
            "1105    med     med      2  more    big  high  vgood\n",
            "1106    med     med      3     2  small   low  unacc\n",
            "1107    med     med      3     2  small   med  unacc\n",
            "1108    med     med      3     2  small  high  unacc\n",
            "1109    med     med      3     2    med   low  unacc\n",
            "1110    med     med      3     2    med   med  unacc\n",
            "1111    med     med      3     2    med  high  unacc\n",
            "1112    med     med      3     2    big   low  unacc\n",
            "1113    med     med      3     2    big   med  unacc\n",
            "1114    med     med      3     2    big  high  unacc\n",
            "1115    med     med      3     4  small   low  unacc\n",
            "1116    med     med      3     4  small   med    acc\n",
            "1117    med     med      3     4  small  high    acc\n",
            "1118    med     med      3     4    med   low  unacc\n",
            "1119    med     med      3     4    med   med    acc\n",
            "1120    med     med      3     4    med  high    acc\n",
            "1121    med     med      3     4    big   low  unacc\n",
            "1122    med     med      3     4    big   med    acc\n",
            "1123    med     med      3     4    big  high  vgood\n",
            "1124    med     med      3  more  small   low  unacc\n",
            "1125    med     med      3  more  small   med    acc\n",
            "1126    med     med      3  more  small  high    acc\n",
            "1127    med     med      3  more    med   low  unacc\n",
            "1128    med     med      3  more    med   med    acc\n",
            "1129    med     med      3  more    med  high  vgood\n",
            "1130    med     med      3  more    big   low  unacc\n",
            "1131    med     med      3  more    big   med    acc\n",
            "1132    med     med      3  more    big  high  vgood\n",
            "1133    med     med      4     2  small   low  unacc\n",
            "1134    med     med      4     2  small   med  unacc\n",
            "1135    med     med      4     2  small  high  unacc\n",
            "1136    med     med      4     2    med   low  unacc\n",
            "1137    med     med      4     2    med   med  unacc\n",
            "1138    med     med      4     2    med  high  unacc\n",
            "1139    med     med      4     2    big   low  unacc\n",
            "1140    med     med      4     2    big   med  unacc\n",
            "1141    med     med      4     2    big  high  unacc\n",
            "1142    med     med      4     4  small   low  unacc\n",
            "1143    med     med      4     4  small   med    acc\n",
            "1144    med     med      4     4  small  high    acc\n",
            "1145    med     med      4     4    med   low  unacc\n",
            "1146    med     med      4     4    med   med    acc\n",
            "1147    med     med      4     4    med  high  vgood\n",
            "1148    med     med      4     4    big   low  unacc\n",
            "1149    med     med      4     4    big   med    acc\n",
            "1150    med     med      4     4    big  high  vgood\n",
            "1151    med     med      4  more  small   low  unacc\n",
            "1152    med     med      4  more  small   med    acc\n",
            "1153    med     med      4  more  small  high    acc\n",
            "1154    med     med      4  more    med   low  unacc\n",
            "1155    med     med      4  more    med   med    acc\n",
            "1156    med     med      4  more    med  high  vgood\n",
            "1157    med     med      4  more    big   low  unacc\n",
            "1158    med     med      4  more    big   med    acc\n",
            "1159    med     med      4  more    big  high  vgood\n",
            "1160    med     med  5more     2  small   low  unacc\n",
            "1161    med     med  5more     2  small   med  unacc\n",
            "1162    med     med  5more     2  small  high  unacc\n",
            "1163    med     med  5more     2    med   low  unacc\n",
            "1164    med     med  5more     2    med   med  unacc\n",
            "1165    med     med  5more     2    med  high  unacc\n",
            "1166    med     med  5more     2    big   low  unacc\n",
            "1167    med     med  5more     2    big   med  unacc\n",
            "1168    med     med  5more     2    big  high  unacc\n",
            "1169    med     med  5more     4  small   low  unacc\n",
            "1170    med     med  5more     4  small   med    acc\n",
            "1171    med     med  5more     4  small  high    acc\n",
            "1172    med     med  5more     4    med   low  unacc\n",
            "1173    med     med  5more     4    med   med    acc\n",
            "1174    med     med  5more     4    med  high  vgood\n",
            "1175    med     med  5more     4    big   low  unacc\n",
            "1176    med     med  5more     4    big   med    acc\n",
            "1177    med     med  5more     4    big  high  vgood\n",
            "1178    med     med  5more  more  small   low  unacc\n",
            "1179    med     med  5more  more  small   med    acc\n",
            "1180    med     med  5more  more  small  high    acc\n",
            "1181    med     med  5more  more    med   low  unacc\n",
            "1182    med     med  5more  more    med   med    acc\n",
            "1183    med     med  5more  more    med  high  vgood\n",
            "1184    med     med  5more  more    big   low  unacc\n",
            "1185    med     med  5more  more    big   med    acc\n",
            "1186    med     med  5more  more    big  high  vgood\n",
            "1187    med     low      2     2  small   low  unacc\n",
            "1188    med     low      2     2  small   med  unacc\n",
            "1189    med     low      2     2  small  high  unacc\n",
            "1190    med     low      2     2    med   low  unacc\n",
            "1191    med     low      2     2    med   med  unacc\n",
            "1192    med     low      2     2    med  high  unacc\n",
            "1193    med     low      2     2    big   low  unacc\n",
            "1194    med     low      2     2    big   med  unacc\n",
            "1195    med     low      2     2    big  high  unacc\n",
            "1196    med     low      2     4  small   low  unacc\n",
            "1197    med     low      2     4  small   med    acc\n",
            "1198    med     low      2     4  small  high   good\n",
            "1199    med     low      2     4    med   low  unacc\n",
            "1200    med     low      2     4    med   med    acc\n",
            "1201    med     low      2     4    med  high   good\n",
            "1202    med     low      2     4    big   low  unacc\n",
            "1203    med     low      2     4    big   med   good\n",
            "1204    med     low      2     4    big  high  vgood\n",
            "1205    med     low      2  more  small   low  unacc\n",
            "1206    med     low      2  more  small   med  unacc\n",
            "1207    med     low      2  more  small  high  unacc\n",
            "1208    med     low      2  more    med   low  unacc\n",
            "1209    med     low      2  more    med   med    acc\n",
            "1210    med     low      2  more    med  high   good\n",
            "1211    med     low      2  more    big   low  unacc\n",
            "1212    med     low      2  more    big   med   good\n",
            "1213    med     low      2  more    big  high  vgood\n",
            "1214    med     low      3     2  small   low  unacc\n",
            "1215    med     low      3     2  small   med  unacc\n",
            "1216    med     low      3     2  small  high  unacc\n",
            "1217    med     low      3     2    med   low  unacc\n",
            "1218    med     low      3     2    med   med  unacc\n",
            "1219    med     low      3     2    med  high  unacc\n",
            "1220    med     low      3     2    big   low  unacc\n",
            "1221    med     low      3     2    big   med  unacc\n",
            "1222    med     low      3     2    big  high  unacc\n",
            "1223    med     low      3     4  small   low  unacc\n",
            "1224    med     low      3     4  small   med    acc\n",
            "1225    med     low      3     4  small  high   good\n",
            "1226    med     low      3     4    med   low  unacc\n",
            "1227    med     low      3     4    med   med    acc\n",
            "1228    med     low      3     4    med  high   good\n",
            "1229    med     low      3     4    big   low  unacc\n",
            "1230    med     low      3     4    big   med   good\n",
            "1231    med     low      3     4    big  high  vgood\n",
            "1232    med     low      3  more  small   low  unacc\n",
            "1233    med     low      3  more  small   med    acc\n",
            "1234    med     low      3  more  small  high   good\n",
            "1235    med     low      3  more    med   low  unacc\n",
            "1236    med     low      3  more    med   med   good\n",
            "1237    med     low      3  more    med  high  vgood\n",
            "1238    med     low      3  more    big   low  unacc\n",
            "1239    med     low      3  more    big   med   good\n",
            "1240    med     low      3  more    big  high  vgood\n",
            "1241    med     low      4     2  small   low  unacc\n",
            "1242    med     low      4     2  small   med  unacc\n",
            "1243    med     low      4     2  small  high  unacc\n",
            "1244    med     low      4     2    med   low  unacc\n",
            "1245    med     low      4     2    med   med  unacc\n",
            "1246    med     low      4     2    med  high  unacc\n",
            "1247    med     low      4     2    big   low  unacc\n",
            "1248    med     low      4     2    big   med  unacc\n",
            "1249    med     low      4     2    big  high  unacc\n",
            "1250    med     low      4     4  small   low  unacc\n",
            "1251    med     low      4     4  small   med    acc\n",
            "1252    med     low      4     4  small  high   good\n",
            "1253    med     low      4     4    med   low  unacc\n",
            "1254    med     low      4     4    med   med   good\n",
            "1255    med     low      4     4    med  high  vgood\n",
            "1256    med     low      4     4    big   low  unacc\n",
            "1257    med     low      4     4    big   med   good\n",
            "1258    med     low      4     4    big  high  vgood\n",
            "1259    med     low      4  more  small   low  unacc\n",
            "1260    med     low      4  more  small   med    acc\n",
            "1261    med     low      4  more  small  high   good\n",
            "1262    med     low      4  more    med   low  unacc\n",
            "1263    med     low      4  more    med   med   good\n",
            "1264    med     low      4  more    med  high  vgood\n",
            "1265    med     low      4  more    big   low  unacc\n",
            "1266    med     low      4  more    big   med   good\n",
            "1267    med     low      4  more    big  high  vgood\n",
            "1268    med     low  5more     2  small   low  unacc\n",
            "1269    med     low  5more     2  small   med  unacc\n",
            "1270    med     low  5more     2  small  high  unacc\n",
            "1271    med     low  5more     2    med   low  unacc\n",
            "1272    med     low  5more     2    med   med  unacc\n",
            "1273    med     low  5more     2    med  high  unacc\n",
            "1274    med     low  5more     2    big   low  unacc\n",
            "1275    med     low  5more     2    big   med  unacc\n",
            "1276    med     low  5more     2    big  high  unacc\n",
            "1277    med     low  5more     4  small   low  unacc\n",
            "1278    med     low  5more     4  small   med    acc\n",
            "1279    med     low  5more     4  small  high   good\n",
            "1280    med     low  5more     4    med   low  unacc\n",
            "1281    med     low  5more     4    med   med   good\n",
            "1282    med     low  5more     4    med  high  vgood\n",
            "1283    med     low  5more     4    big   low  unacc\n",
            "1284    med     low  5more     4    big   med   good\n",
            "1285    med     low  5more     4    big  high  vgood\n",
            "1286    med     low  5more  more  small   low  unacc\n",
            "1287    med     low  5more  more  small   med    acc\n",
            "1288    med     low  5more  more  small  high   good\n",
            "1289    med     low  5more  more    med   low  unacc\n",
            "1290    med     low  5more  more    med   med   good\n",
            "1291    med     low  5more  more    med  high  vgood\n",
            "1292    med     low  5more  more    big   low  unacc\n",
            "1293    med     low  5more  more    big   med   good\n",
            "1294    med     low  5more  more    big  high  vgood\n",
            "1295    low   vhigh      2     2  small   low  unacc\n",
            "1296    low   vhigh      2     2  small   med  unacc\n",
            "1297    low   vhigh      2     2  small  high  unacc\n",
            "1298    low   vhigh      2     2    med   low  unacc\n",
            "1299    low   vhigh      2     2    med   med  unacc\n",
            "1300    low   vhigh      2     2    med  high  unacc\n",
            "1301    low   vhigh      2     2    big   low  unacc\n",
            "1302    low   vhigh      2     2    big   med  unacc\n",
            "1303    low   vhigh      2     2    big  high  unacc\n",
            "1304    low   vhigh      2     4  small   low  unacc\n",
            "1305    low   vhigh      2     4  small   med  unacc\n",
            "1306    low   vhigh      2     4  small  high    acc\n",
            "1307    low   vhigh      2     4    med   low  unacc\n",
            "1308    low   vhigh      2     4    med   med  unacc\n",
            "1309    low   vhigh      2     4    med  high    acc\n",
            "1310    low   vhigh      2     4    big   low  unacc\n",
            "1311    low   vhigh      2     4    big   med    acc\n",
            "1312    low   vhigh      2     4    big  high    acc\n",
            "1313    low   vhigh      2  more  small   low  unacc\n",
            "1314    low   vhigh      2  more  small   med  unacc\n",
            "1315    low   vhigh      2  more  small  high  unacc\n",
            "1316    low   vhigh      2  more    med   low  unacc\n",
            "1317    low   vhigh      2  more    med   med  unacc\n",
            "1318    low   vhigh      2  more    med  high    acc\n",
            "1319    low   vhigh      2  more    big   low  unacc\n",
            "1320    low   vhigh      2  more    big   med    acc\n",
            "1321    low   vhigh      2  more    big  high    acc\n",
            "1322    low   vhigh      3     2  small   low  unacc\n",
            "1323    low   vhigh      3     2  small   med  unacc\n",
            "1324    low   vhigh      3     2  small  high  unacc\n",
            "1325    low   vhigh      3     2    med   low  unacc\n",
            "1326    low   vhigh      3     2    med   med  unacc\n",
            "1327    low   vhigh      3     2    med  high  unacc\n",
            "1328    low   vhigh      3     2    big   low  unacc\n",
            "1329    low   vhigh      3     2    big   med  unacc\n",
            "1330    low   vhigh      3     2    big  high  unacc\n",
            "1331    low   vhigh      3     4  small   low  unacc\n",
            "1332    low   vhigh      3     4  small   med  unacc\n",
            "1333    low   vhigh      3     4  small  high    acc\n",
            "1334    low   vhigh      3     4    med   low  unacc\n",
            "1335    low   vhigh      3     4    med   med  unacc\n",
            "1336    low   vhigh      3     4    med  high    acc\n",
            "1337    low   vhigh      3     4    big   low  unacc\n",
            "1338    low   vhigh      3     4    big   med    acc\n",
            "1339    low   vhigh      3     4    big  high    acc\n",
            "1340    low   vhigh      3  more  small   low  unacc\n",
            "1341    low   vhigh      3  more  small   med  unacc\n",
            "1342    low   vhigh      3  more  small  high    acc\n",
            "1343    low   vhigh      3  more    med   low  unacc\n",
            "1344    low   vhigh      3  more    med   med    acc\n",
            "1345    low   vhigh      3  more    med  high    acc\n",
            "1346    low   vhigh      3  more    big   low  unacc\n",
            "1347    low   vhigh      3  more    big   med    acc\n",
            "1348    low   vhigh      3  more    big  high    acc\n",
            "1349    low   vhigh      4     2  small   low  unacc\n",
            "1350    low   vhigh      4     2  small   med  unacc\n",
            "1351    low   vhigh      4     2  small  high  unacc\n",
            "1352    low   vhigh      4     2    med   low  unacc\n",
            "1353    low   vhigh      4     2    med   med  unacc\n",
            "1354    low   vhigh      4     2    med  high  unacc\n",
            "1355    low   vhigh      4     2    big   low  unacc\n",
            "1356    low   vhigh      4     2    big   med  unacc\n",
            "1357    low   vhigh      4     2    big  high  unacc\n",
            "1358    low   vhigh      4     4  small   low  unacc\n",
            "1359    low   vhigh      4     4  small   med  unacc\n",
            "1360    low   vhigh      4     4  small  high    acc\n",
            "1361    low   vhigh      4     4    med   low  unacc\n",
            "1362    low   vhigh      4     4    med   med    acc\n",
            "1363    low   vhigh      4     4    med  high    acc\n",
            "1364    low   vhigh      4     4    big   low  unacc\n",
            "1365    low   vhigh      4     4    big   med    acc\n",
            "1366    low   vhigh      4     4    big  high    acc\n",
            "1367    low   vhigh      4  more  small   low  unacc\n",
            "1368    low   vhigh      4  more  small   med  unacc\n",
            "1369    low   vhigh      4  more  small  high    acc\n",
            "1370    low   vhigh      4  more    med   low  unacc\n",
            "1371    low   vhigh      4  more    med   med    acc\n",
            "1372    low   vhigh      4  more    med  high    acc\n",
            "1373    low   vhigh      4  more    big   low  unacc\n",
            "1374    low   vhigh      4  more    big   med    acc\n",
            "1375    low   vhigh      4  more    big  high    acc\n",
            "1376    low   vhigh  5more     2  small   low  unacc\n",
            "1377    low   vhigh  5more     2  small   med  unacc\n",
            "1378    low   vhigh  5more     2  small  high  unacc\n",
            "1379    low   vhigh  5more     2    med   low  unacc\n",
            "1380    low   vhigh  5more     2    med   med  unacc\n",
            "1381    low   vhigh  5more     2    med  high  unacc\n",
            "1382    low   vhigh  5more     2    big   low  unacc\n",
            "1383    low   vhigh  5more     2    big   med  unacc\n",
            "1384    low   vhigh  5more     2    big  high  unacc\n",
            "1385    low   vhigh  5more     4  small   low  unacc\n",
            "1386    low   vhigh  5more     4  small   med  unacc\n",
            "1387    low   vhigh  5more     4  small  high    acc\n",
            "1388    low   vhigh  5more     4    med   low  unacc\n",
            "1389    low   vhigh  5more     4    med   med    acc\n",
            "1390    low   vhigh  5more     4    med  high    acc\n",
            "1391    low   vhigh  5more     4    big   low  unacc\n",
            "1392    low   vhigh  5more     4    big   med    acc\n",
            "1393    low   vhigh  5more     4    big  high    acc\n",
            "1394    low   vhigh  5more  more  small   low  unacc\n",
            "1395    low   vhigh  5more  more  small   med  unacc\n",
            "1396    low   vhigh  5more  more  small  high    acc\n",
            "1397    low   vhigh  5more  more    med   low  unacc\n",
            "1398    low   vhigh  5more  more    med   med    acc\n",
            "1399    low   vhigh  5more  more    med  high    acc\n",
            "1400    low   vhigh  5more  more    big   low  unacc\n",
            "1401    low   vhigh  5more  more    big   med    acc\n",
            "1402    low   vhigh  5more  more    big  high    acc\n",
            "1403    low    high      2     2  small   low  unacc\n",
            "1404    low    high      2     2  small   med  unacc\n",
            "1405    low    high      2     2  small  high  unacc\n",
            "1406    low    high      2     2    med   low  unacc\n",
            "1407    low    high      2     2    med   med  unacc\n",
            "1408    low    high      2     2    med  high  unacc\n",
            "1409    low    high      2     2    big   low  unacc\n",
            "1410    low    high      2     2    big   med  unacc\n",
            "1411    low    high      2     2    big  high  unacc\n",
            "1412    low    high      2     4  small   low  unacc\n",
            "1413    low    high      2     4  small   med    acc\n",
            "1414    low    high      2     4  small  high    acc\n",
            "1415    low    high      2     4    med   low  unacc\n",
            "1416    low    high      2     4    med   med    acc\n",
            "1417    low    high      2     4    med  high    acc\n",
            "1418    low    high      2     4    big   low  unacc\n",
            "1419    low    high      2     4    big   med    acc\n",
            "1420    low    high      2     4    big  high  vgood\n",
            "1421    low    high      2  more  small   low  unacc\n",
            "1422    low    high      2  more  small   med  unacc\n",
            "1423    low    high      2  more  small  high  unacc\n",
            "1424    low    high      2  more    med   low  unacc\n",
            "1425    low    high      2  more    med   med    acc\n",
            "1426    low    high      2  more    med  high    acc\n",
            "1427    low    high      2  more    big   low  unacc\n",
            "1428    low    high      2  more    big   med    acc\n",
            "1429    low    high      2  more    big  high  vgood\n",
            "1430    low    high      3     2  small   low  unacc\n",
            "1431    low    high      3     2  small   med  unacc\n",
            "1432    low    high      3     2  small  high  unacc\n",
            "1433    low    high      3     2    med   low  unacc\n",
            "1434    low    high      3     2    med   med  unacc\n",
            "1435    low    high      3     2    med  high  unacc\n",
            "1436    low    high      3     2    big   low  unacc\n",
            "1437    low    high      3     2    big   med  unacc\n",
            "1438    low    high      3     2    big  high  unacc\n",
            "1439    low    high      3     4  small   low  unacc\n",
            "1440    low    high      3     4  small   med    acc\n",
            "1441    low    high      3     4  small  high    acc\n",
            "1442    low    high      3     4    med   low  unacc\n",
            "1443    low    high      3     4    med   med    acc\n",
            "1444    low    high      3     4    med  high    acc\n",
            "1445    low    high      3     4    big   low  unacc\n",
            "1446    low    high      3     4    big   med    acc\n",
            "1447    low    high      3     4    big  high  vgood\n",
            "1448    low    high      3  more  small   low  unacc\n",
            "1449    low    high      3  more  small   med    acc\n",
            "1450    low    high      3  more  small  high    acc\n",
            "1451    low    high      3  more    med   low  unacc\n",
            "1452    low    high      3  more    med   med    acc\n",
            "1453    low    high      3  more    med  high  vgood\n",
            "1454    low    high      3  more    big   low  unacc\n",
            "1455    low    high      3  more    big   med    acc\n",
            "1456    low    high      3  more    big  high  vgood\n",
            "1457    low    high      4     2  small   low  unacc\n",
            "1458    low    high      4     2  small   med  unacc\n",
            "1459    low    high      4     2  small  high  unacc\n",
            "1460    low    high      4     2    med   low  unacc\n",
            "1461    low    high      4     2    med   med  unacc\n",
            "1462    low    high      4     2    med  high  unacc\n",
            "1463    low    high      4     2    big   low  unacc\n",
            "1464    low    high      4     2    big   med  unacc\n",
            "1465    low    high      4     2    big  high  unacc\n",
            "1466    low    high      4     4  small   low  unacc\n",
            "1467    low    high      4     4  small   med    acc\n",
            "1468    low    high      4     4  small  high    acc\n",
            "1469    low    high      4     4    med   low  unacc\n",
            "1470    low    high      4     4    med   med    acc\n",
            "1471    low    high      4     4    med  high  vgood\n",
            "1472    low    high      4     4    big   low  unacc\n",
            "1473    low    high      4     4    big   med    acc\n",
            "1474    low    high      4     4    big  high  vgood\n",
            "1475    low    high      4  more  small   low  unacc\n",
            "1476    low    high      4  more  small   med    acc\n",
            "1477    low    high      4  more  small  high    acc\n",
            "1478    low    high      4  more    med   low  unacc\n",
            "1479    low    high      4  more    med   med    acc\n",
            "1480    low    high      4  more    med  high  vgood\n",
            "1481    low    high      4  more    big   low  unacc\n",
            "1482    low    high      4  more    big   med    acc\n",
            "1483    low    high      4  more    big  high  vgood\n",
            "1484    low    high  5more     2  small   low  unacc\n",
            "1485    low    high  5more     2  small   med  unacc\n",
            "1486    low    high  5more     2  small  high  unacc\n",
            "1487    low    high  5more     2    med   low  unacc\n",
            "1488    low    high  5more     2    med   med  unacc\n",
            "1489    low    high  5more     2    med  high  unacc\n",
            "1490    low    high  5more     2    big   low  unacc\n",
            "1491    low    high  5more     2    big   med  unacc\n",
            "1492    low    high  5more     2    big  high  unacc\n",
            "1493    low    high  5more     4  small   low  unacc\n",
            "1494    low    high  5more     4  small   med    acc\n",
            "1495    low    high  5more     4  small  high    acc\n",
            "1496    low    high  5more     4    med   low  unacc\n",
            "1497    low    high  5more     4    med   med    acc\n",
            "1498    low    high  5more     4    med  high  vgood\n",
            "1499    low    high  5more     4    big   low  unacc\n",
            "1500    low    high  5more     4    big   med    acc\n",
            "1501    low    high  5more     4    big  high  vgood\n",
            "1502    low    high  5more  more  small   low  unacc\n",
            "1503    low    high  5more  more  small   med    acc\n",
            "1504    low    high  5more  more  small  high    acc\n",
            "1505    low    high  5more  more    med   low  unacc\n",
            "1506    low    high  5more  more    med   med    acc\n",
            "1507    low    high  5more  more    med  high  vgood\n",
            "1508    low    high  5more  more    big   low  unacc\n",
            "1509    low    high  5more  more    big   med    acc\n",
            "1510    low    high  5more  more    big  high  vgood\n",
            "1511    low     med      2     2  small   low  unacc\n",
            "1512    low     med      2     2  small   med  unacc\n",
            "1513    low     med      2     2  small  high  unacc\n",
            "1514    low     med      2     2    med   low  unacc\n",
            "1515    low     med      2     2    med   med  unacc\n",
            "1516    low     med      2     2    med  high  unacc\n",
            "1517    low     med      2     2    big   low  unacc\n",
            "1518    low     med      2     2    big   med  unacc\n",
            "1519    low     med      2     2    big  high  unacc\n",
            "1520    low     med      2     4  small   low  unacc\n",
            "1521    low     med      2     4  small   med    acc\n",
            "1522    low     med      2     4  small  high   good\n",
            "1523    low     med      2     4    med   low  unacc\n",
            "1524    low     med      2     4    med   med    acc\n",
            "1525    low     med      2     4    med  high   good\n",
            "1526    low     med      2     4    big   low  unacc\n",
            "1527    low     med      2     4    big   med   good\n",
            "1528    low     med      2     4    big  high  vgood\n",
            "1529    low     med      2  more  small   low  unacc\n",
            "1530    low     med      2  more  small   med  unacc\n",
            "1531    low     med      2  more  small  high  unacc\n",
            "1532    low     med      2  more    med   low  unacc\n",
            "1533    low     med      2  more    med   med    acc\n",
            "1534    low     med      2  more    med  high   good\n",
            "1535    low     med      2  more    big   low  unacc\n",
            "1536    low     med      2  more    big   med   good\n",
            "1537    low     med      2  more    big  high  vgood\n",
            "1538    low     med      3     2  small   low  unacc\n",
            "1539    low     med      3     2  small   med  unacc\n",
            "1540    low     med      3     2  small  high  unacc\n",
            "1541    low     med      3     2    med   low  unacc\n",
            "1542    low     med      3     2    med   med  unacc\n",
            "1543    low     med      3     2    med  high  unacc\n",
            "1544    low     med      3     2    big   low  unacc\n",
            "1545    low     med      3     2    big   med  unacc\n",
            "1546    low     med      3     2    big  high  unacc\n",
            "1547    low     med      3     4  small   low  unacc\n",
            "1548    low     med      3     4  small   med    acc\n",
            "1549    low     med      3     4  small  high   good\n",
            "1550    low     med      3     4    med   low  unacc\n",
            "1551    low     med      3     4    med   med    acc\n",
            "1552    low     med      3     4    med  high   good\n",
            "1553    low     med      3     4    big   low  unacc\n",
            "1554    low     med      3     4    big   med   good\n",
            "1555    low     med      3     4    big  high  vgood\n",
            "1556    low     med      3  more  small   low  unacc\n",
            "1557    low     med      3  more  small   med    acc\n",
            "1558    low     med      3  more  small  high   good\n",
            "1559    low     med      3  more    med   low  unacc\n",
            "1560    low     med      3  more    med   med   good\n",
            "1561    low     med      3  more    med  high  vgood\n",
            "1562    low     med      3  more    big   low  unacc\n",
            "1563    low     med      3  more    big   med   good\n",
            "1564    low     med      3  more    big  high  vgood\n",
            "1565    low     med      4     2  small   low  unacc\n",
            "1566    low     med      4     2  small   med  unacc\n",
            "1567    low     med      4     2  small  high  unacc\n",
            "1568    low     med      4     2    med   low  unacc\n",
            "1569    low     med      4     2    med   med  unacc\n",
            "1570    low     med      4     2    med  high  unacc\n",
            "1571    low     med      4     2    big   low  unacc\n",
            "1572    low     med      4     2    big   med  unacc\n",
            "1573    low     med      4     2    big  high  unacc\n",
            "1574    low     med      4     4  small   low  unacc\n",
            "1575    low     med      4     4  small   med    acc\n",
            "1576    low     med      4     4  small  high   good\n",
            "1577    low     med      4     4    med   low  unacc\n",
            "1578    low     med      4     4    med   med   good\n",
            "1579    low     med      4     4    med  high  vgood\n",
            "1580    low     med      4     4    big   low  unacc\n",
            "1581    low     med      4     4    big   med   good\n",
            "1582    low     med      4     4    big  high  vgood\n",
            "1583    low     med      4  more  small   low  unacc\n",
            "1584    low     med      4  more  small   med    acc\n",
            "1585    low     med      4  more  small  high   good\n",
            "1586    low     med      4  more    med   low  unacc\n",
            "1587    low     med      4  more    med   med   good\n",
            "1588    low     med      4  more    med  high  vgood\n",
            "1589    low     med      4  more    big   low  unacc\n",
            "1590    low     med      4  more    big   med   good\n",
            "1591    low     med      4  more    big  high  vgood\n",
            "1592    low     med  5more     2  small   low  unacc\n",
            "1593    low     med  5more     2  small   med  unacc\n",
            "1594    low     med  5more     2  small  high  unacc\n",
            "1595    low     med  5more     2    med   low  unacc\n",
            "1596    low     med  5more     2    med   med  unacc\n",
            "1597    low     med  5more     2    med  high  unacc\n",
            "1598    low     med  5more     2    big   low  unacc\n",
            "1599    low     med  5more     2    big   med  unacc\n",
            "1600    low     med  5more     2    big  high  unacc\n",
            "1601    low     med  5more     4  small   low  unacc\n",
            "1602    low     med  5more     4  small   med    acc\n",
            "1603    low     med  5more     4  small  high   good\n",
            "1604    low     med  5more     4    med   low  unacc\n",
            "1605    low     med  5more     4    med   med   good\n",
            "1606    low     med  5more     4    med  high  vgood\n",
            "1607    low     med  5more     4    big   low  unacc\n",
            "1608    low     med  5more     4    big   med   good\n",
            "1609    low     med  5more     4    big  high  vgood\n",
            "1610    low     med  5more  more  small   low  unacc\n",
            "1611    low     med  5more  more  small   med    acc\n",
            "1612    low     med  5more  more  small  high   good\n",
            "1613    low     med  5more  more    med   low  unacc\n",
            "1614    low     med  5more  more    med   med   good\n",
            "1615    low     med  5more  more    med  high  vgood\n",
            "1616    low     med  5more  more    big   low  unacc\n",
            "1617    low     med  5more  more    big   med   good\n",
            "1618    low     med  5more  more    big  high  vgood\n",
            "1619    low     low      2     2  small   low  unacc\n",
            "1620    low     low      2     2  small   med  unacc\n",
            "1621    low     low      2     2  small  high  unacc\n",
            "1622    low     low      2     2    med   low  unacc\n",
            "1623    low     low      2     2    med   med  unacc\n",
            "1624    low     low      2     2    med  high  unacc\n",
            "1625    low     low      2     2    big   low  unacc\n",
            "1626    low     low      2     2    big   med  unacc\n",
            "1627    low     low      2     2    big  high  unacc\n",
            "1628    low     low      2     4  small   low  unacc\n",
            "1629    low     low      2     4  small   med    acc\n",
            "1630    low     low      2     4  small  high   good\n",
            "1631    low     low      2     4    med   low  unacc\n",
            "1632    low     low      2     4    med   med    acc\n",
            "1633    low     low      2     4    med  high   good\n",
            "1634    low     low      2     4    big   low  unacc\n",
            "1635    low     low      2     4    big   med   good\n",
            "1636    low     low      2     4    big  high  vgood\n",
            "1637    low     low      2  more  small   low  unacc\n",
            "1638    low     low      2  more  small   med  unacc\n",
            "1639    low     low      2  more  small  high  unacc\n",
            "1640    low     low      2  more    med   low  unacc\n",
            "1641    low     low      2  more    med   med    acc\n",
            "1642    low     low      2  more    med  high   good\n",
            "1643    low     low      2  more    big   low  unacc\n",
            "1644    low     low      2  more    big   med   good\n",
            "1645    low     low      2  more    big  high  vgood\n",
            "1646    low     low      3     2  small   low  unacc\n",
            "1647    low     low      3     2  small   med  unacc\n",
            "1648    low     low      3     2  small  high  unacc\n",
            "1649    low     low      3     2    med   low  unacc\n",
            "1650    low     low      3     2    med   med  unacc\n",
            "1651    low     low      3     2    med  high  unacc\n",
            "1652    low     low      3     2    big   low  unacc\n",
            "1653    low     low      3     2    big   med  unacc\n",
            "1654    low     low      3     2    big  high  unacc\n",
            "1655    low     low      3     4  small   low  unacc\n",
            "1656    low     low      3     4  small   med    acc\n",
            "1657    low     low      3     4  small  high   good\n",
            "1658    low     low      3     4    med   low  unacc\n",
            "1659    low     low      3     4    med   med    acc\n",
            "1660    low     low      3     4    med  high   good\n",
            "1661    low     low      3     4    big   low  unacc\n",
            "1662    low     low      3     4    big   med   good\n",
            "1663    low     low      3     4    big  high  vgood\n",
            "1664    low     low      3  more  small   low  unacc\n",
            "1665    low     low      3  more  small   med    acc\n",
            "1666    low     low      3  more  small  high   good\n",
            "1667    low     low      3  more    med   low  unacc\n",
            "1668    low     low      3  more    med   med   good\n",
            "1669    low     low      3  more    med  high  vgood\n",
            "1670    low     low      3  more    big   low  unacc\n",
            "1671    low     low      3  more    big   med   good\n",
            "1672    low     low      3  more    big  high  vgood\n",
            "1673    low     low      4     2  small   low  unacc\n",
            "1674    low     low      4     2  small   med  unacc\n",
            "1675    low     low      4     2  small  high  unacc\n",
            "1676    low     low      4     2    med   low  unacc\n",
            "1677    low     low      4     2    med   med  unacc\n",
            "1678    low     low      4     2    med  high  unacc\n",
            "1679    low     low      4     2    big   low  unacc\n",
            "1680    low     low      4     2    big   med  unacc\n",
            "1681    low     low      4     2    big  high  unacc\n",
            "1682    low     low      4     4  small   low  unacc\n",
            "1683    low     low      4     4  small   med    acc\n",
            "1684    low     low      4     4  small  high   good\n",
            "1685    low     low      4     4    med   low  unacc\n",
            "1686    low     low      4     4    med   med   good\n",
            "1687    low     low      4     4    med  high  vgood\n",
            "1688    low     low      4     4    big   low  unacc\n",
            "1689    low     low      4     4    big   med   good\n",
            "1690    low     low      4     4    big  high  vgood\n",
            "1691    low     low      4  more  small   low  unacc\n",
            "1692    low     low      4  more  small   med    acc\n",
            "1693    low     low      4  more  small  high   good\n",
            "1694    low     low      4  more    med   low  unacc\n",
            "1695    low     low      4  more    med   med   good\n",
            "1696    low     low      4  more    med  high  vgood\n",
            "1697    low     low      4  more    big   low  unacc\n",
            "1698    low     low      4  more    big   med   good\n",
            "1699    low     low      4  more    big  high  vgood\n",
            "1700    low     low  5more     2  small   low  unacc\n",
            "1701    low     low  5more     2  small   med  unacc\n",
            "1702    low     low  5more     2  small  high  unacc\n",
            "1703    low     low  5more     2    med   low  unacc\n",
            "1704    low     low  5more     2    med   med  unacc\n",
            "1705    low     low  5more     2    med  high  unacc\n",
            "1706    low     low  5more     2    big   low  unacc\n",
            "1707    low     low  5more     2    big   med  unacc\n",
            "1708    low     low  5more     2    big  high  unacc\n",
            "1709    low     low  5more     4  small   low  unacc\n",
            "1710    low     low  5more     4  small   med    acc\n",
            "1711    low     low  5more     4  small  high   good\n",
            "1712    low     low  5more     4    med   low  unacc\n",
            "1713    low     low  5more     4    med   med   good\n",
            "1714    low     low  5more     4    med  high  vgood\n",
            "1715    low     low  5more     4    big   low  unacc\n",
            "1716    low     low  5more     4    big   med   good\n",
            "1717    low     low  5more     4    big  high  vgood\n",
            "1718    low     low  5more  more  small   low  unacc\n",
            "1719    low     low  5more  more  small   med    acc\n",
            "1720    low     low  5more  more  small  high   good\n",
            "1721    low     low  5more  more    med   low  unacc\n",
            "1722    low     low  5more  more    med   med   good\n",
            "1723    low     low  5more  more    med  high  vgood\n",
            "1724    low     low  5more  more    big   low  unacc\n",
            "1725    low     low  5more  more    big   med   good\n",
            "1726    low     low  5more  more    big  high  vgood\n"
          ]
        }
      ]
    }
  ]
}